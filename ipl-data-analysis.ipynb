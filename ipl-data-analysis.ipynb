{
 "cells": [
  {
   "cell_type": "code",
   "execution_count": 1,
   "id": "1b1030ab",
   "metadata": {
    "_cell_guid": "b1076dfc-b9ad-4769-8c92-a6c4dae69d19",
    "_uuid": "8f2839f25d086af736a60e9eeb907d3b93b6e0e5",
    "execution": {
     "iopub.execute_input": "2024-04-02T10:48:25.441905Z",
     "iopub.status.busy": "2024-04-02T10:48:25.441447Z",
     "iopub.status.idle": "2024-04-02T10:48:26.337246Z",
     "shell.execute_reply": "2024-04-02T10:48:26.336089Z"
    },
    "papermill": {
     "duration": 0.915762,
     "end_time": "2024-04-02T10:48:26.340354",
     "exception": false,
     "start_time": "2024-04-02T10:48:25.424592",
     "status": "completed"
    },
    "tags": []
   },
   "outputs": [
    {
     "name": "stdout",
     "output_type": "stream",
     "text": [
      "/kaggle/input/ipl-cricket-data-2008-2023/Ipl-clean-data2008-2023.csv\n"
     ]
    }
   ],
   "source": [
    "# This Python 3 environment comes with many helpful analytics libraries installed\n",
    "# It is defined by the kaggle/python Docker image: https://github.com/kaggle/docker-python\n",
    "# For example, here's several helpful packages to load\n",
    "\n",
    "import numpy as np # linear algebra\n",
    "import pandas as pd # data processing, CSV file I/O (e.g. pd.read_csv)\n",
    "import sqlite3\n",
    "\n",
    "# Input data files are available in the read-only \"../input/\" directory\n",
    "# For example, running this (by clicking run or pressing Shift+Enter) will list all files under the input directory\n",
    "\n",
    "import os\n",
    "for dirname, _, filenames in os.walk('/kaggle/input'):\n",
    "    for filename in filenames:\n",
    "        print(os.path.join(dirname, filename))\n",
    "\n",
    "# You can write up to 20GB to the current directory (/kaggle/working/) that gets preserved as output when you create a version using \"Save & Run All\" \n",
    "# You can also write temporary files to /kaggle/temp/, but they won't be saved outside of the current session"
   ]
  },
  {
   "cell_type": "markdown",
   "id": "998515cd",
   "metadata": {
    "papermill": {
     "duration": 0.0146,
     "end_time": "2024-04-02T10:48:26.369118",
     "exception": false,
     "start_time": "2024-04-02T10:48:26.354518",
     "status": "completed"
    },
    "tags": []
   },
   "source": [
    "# 1. Importing and Understanding the Dataset"
   ]
  },
  {
   "cell_type": "markdown",
   "id": "22057764",
   "metadata": {
    "papermill": {
     "duration": 0.013478,
     "end_time": "2024-04-02T10:48:26.396537",
     "exception": false,
     "start_time": "2024-04-02T10:48:26.383059",
     "status": "completed"
    },
    "tags": []
   },
   "source": [
    "**Loading the dataset**"
   ]
  },
  {
   "cell_type": "code",
   "execution_count": 2,
   "id": "d0fa6968",
   "metadata": {
    "execution": {
     "iopub.execute_input": "2024-04-02T10:48:26.427987Z",
     "iopub.status.busy": "2024-04-02T10:48:26.426751Z",
     "iopub.status.idle": "2024-04-02T10:48:26.524701Z",
     "shell.execute_reply": "2024-04-02T10:48:26.523461Z"
    },
    "papermill": {
     "duration": 0.117023,
     "end_time": "2024-04-02T10:48:26.527576",
     "exception": false,
     "start_time": "2024-04-02T10:48:26.410553",
     "status": "completed"
    },
    "tags": []
   },
   "outputs": [
    {
     "data": {
      "text/html": [
       "<div>\n",
       "<style scoped>\n",
       "    .dataframe tbody tr th:only-of-type {\n",
       "        vertical-align: middle;\n",
       "    }\n",
       "\n",
       "    .dataframe tbody tr th {\n",
       "        vertical-align: top;\n",
       "    }\n",
       "\n",
       "    .dataframe thead th {\n",
       "        text-align: right;\n",
       "    }\n",
       "</style>\n",
       "<table border=\"1\" class=\"dataframe\">\n",
       "  <thead>\n",
       "    <tr style=\"text-align: right;\">\n",
       "      <th></th>\n",
       "      <th>Unnamed: 0</th>\n",
       "      <th>season</th>\n",
       "      <th>id</th>\n",
       "      <th>name</th>\n",
       "      <th>short_name</th>\n",
       "      <th>description</th>\n",
       "      <th>home_team</th>\n",
       "      <th>away_team</th>\n",
       "      <th>toss_won</th>\n",
       "      <th>decision</th>\n",
       "      <th>...</th>\n",
       "      <th>home_playx1</th>\n",
       "      <th>away_playx1</th>\n",
       "      <th>away_key_batsman</th>\n",
       "      <th>away_key_bowler</th>\n",
       "      <th>match_days</th>\n",
       "      <th>umpire1</th>\n",
       "      <th>umpire2</th>\n",
       "      <th>tv_umpire</th>\n",
       "      <th>referee</th>\n",
       "      <th>reserve_umpire</th>\n",
       "    </tr>\n",
       "  </thead>\n",
       "  <tbody>\n",
       "    <tr>\n",
       "      <th>0</th>\n",
       "      <td>4</td>\n",
       "      <td>2023.0</td>\n",
       "      <td>1359544</td>\n",
       "      <td>Royal Challengers Bangalore v Gujarat Titans</td>\n",
       "      <td>RCB v GT</td>\n",
       "      <td>70th Match (N), Indian Premier League at Benga...</td>\n",
       "      <td>RCB</td>\n",
       "      <td>GT</td>\n",
       "      <td>GT</td>\n",
       "      <td>BOWL FIRST</td>\n",
       "      <td>...</td>\n",
       "      <td>Virat Kohli (UKN),Faf du Plessis (UKN),Glenn M...</td>\n",
       "      <td>Wriddhiman Saha (WK),Shubman Gill (UKN),Vijay ...</td>\n",
       "      <td>Shubman Gill,Vijay Shankar</td>\n",
       "      <td>Noor Ahmad,Rashid Khan</td>\n",
       "      <td>21 May 2023 - night match (20-over match)</td>\n",
       "      <td>Nitin Menon</td>\n",
       "      <td>Virender Sharma</td>\n",
       "      <td>Tapan Sharma</td>\n",
       "      <td>Javagal Srinath</td>\n",
       "      <td>VM  Dhokre</td>\n",
       "    </tr>\n",
       "    <tr>\n",
       "      <th>1</th>\n",
       "      <td>5</td>\n",
       "      <td>2023.0</td>\n",
       "      <td>1359543</td>\n",
       "      <td>Mumbai Indians v Sunrisers Hyderabad</td>\n",
       "      <td>MI v SRH</td>\n",
       "      <td>69th Match (D/N), Indian Premier League at Mum...</td>\n",
       "      <td>MI</td>\n",
       "      <td>SRH</td>\n",
       "      <td>MI</td>\n",
       "      <td>BOWL FIRST</td>\n",
       "      <td>...</td>\n",
       "      <td>Ishan Kishan (WK),Rohit Sharma (UKN),Cameron G...</td>\n",
       "      <td>Vivrant Sharma (AR),Mayank Agarwal (UKN),Heinr...</td>\n",
       "      <td>Mayank Agarwal,Vivrant Sharma</td>\n",
       "      <td>Bhuvneshwar Kumar,Mayank Dagar</td>\n",
       "      <td>21 May 2023 - day/night match (20-over match)</td>\n",
       "      <td>KN Ananthapadmanabhan</td>\n",
       "      <td>Rod Tucker</td>\n",
       "      <td>Rohan Pandit</td>\n",
       "      <td>Pankaj Dharmani</td>\n",
       "      <td>Parashar Joshi</td>\n",
       "    </tr>\n",
       "    <tr>\n",
       "      <th>2</th>\n",
       "      <td>6</td>\n",
       "      <td>2023.0</td>\n",
       "      <td>1359542</td>\n",
       "      <td>Kolkata Knight Riders v Lucknow Super Giants</td>\n",
       "      <td>KKR v LSG</td>\n",
       "      <td>68th Match (N), Indian Premier League at Kolka...</td>\n",
       "      <td>KKR</td>\n",
       "      <td>LSG</td>\n",
       "      <td>KKR</td>\n",
       "      <td>BOWL FIRST</td>\n",
       "      <td>...</td>\n",
       "      <td>Jason Roy (UKN),Venkatesh Iyer (AR),Nitish Ran...</td>\n",
       "      <td>Karan Sharma (AR),Quinton de Kock (WK),Prerak ...</td>\n",
       "      <td>Nicholas Pooran,Quinton de Kock</td>\n",
       "      <td>Ravi Bishnoi,Yash Thakur</td>\n",
       "      <td>20 May 2023 - night match (20-over match)</td>\n",
       "      <td>Ulhas Gandhe</td>\n",
       "      <td>Jayaraman Madanagopal</td>\n",
       "      <td>Yeshwant Barde</td>\n",
       "      <td>Manu Nayyar</td>\n",
       "      <td>Mohamed Rafi</td>\n",
       "    </tr>\n",
       "    <tr>\n",
       "      <th>3</th>\n",
       "      <td>7</td>\n",
       "      <td>2023.0</td>\n",
       "      <td>1359541</td>\n",
       "      <td>Delhi Capitals v Chennai Super Kings</td>\n",
       "      <td>DC v CSK</td>\n",
       "      <td>67th Match (D/N), Indian Premier League at Del...</td>\n",
       "      <td>DC</td>\n",
       "      <td>CSK</td>\n",
       "      <td>CSK</td>\n",
       "      <td>BAT FIRST</td>\n",
       "      <td>...</td>\n",
       "      <td>Prithvi Shaw (UKN),David Warner (UKN),Phil Sal...</td>\n",
       "      <td>Ruturaj Gaikwad (UKN),Devon Conway (UKN),Shiva...</td>\n",
       "      <td>Devon Conway,Ruturaj Gaikwad</td>\n",
       "      <td>Deepak Chahar,Matheesha Pathirana</td>\n",
       "      <td>20 May 2023 - day/night match (20-over match)</td>\n",
       "      <td>Chris Gaffaney</td>\n",
       "      <td>Nikhil Patwardhan</td>\n",
       "      <td>Anil Chaudhary</td>\n",
       "      <td>Sanjay Verma</td>\n",
       "      <td>Mohit Krishnadas</td>\n",
       "    </tr>\n",
       "    <tr>\n",
       "      <th>4</th>\n",
       "      <td>8</td>\n",
       "      <td>2023.0</td>\n",
       "      <td>1359540</td>\n",
       "      <td>Punjab Kings v Rajasthan Royals</td>\n",
       "      <td>PBKS v RR</td>\n",
       "      <td>66th Match (N), Indian Premier League at Dhara...</td>\n",
       "      <td>PBKS</td>\n",
       "      <td>RR</td>\n",
       "      <td>RR</td>\n",
       "      <td>BOWL FIRST</td>\n",
       "      <td>...</td>\n",
       "      <td>Prabhsimran Singh (UKN),Shikhar Dhawan (UKN),A...</td>\n",
       "      <td>Yashasvi Jaiswal (UKN),Jos Buttler (UKN),Devdu...</td>\n",
       "      <td>Devdutt Padikkal,Yashasvi Jaiswal</td>\n",
       "      <td>Navdeep Saini,Adam Zampa</td>\n",
       "      <td>19 May 2023 - night match (20-over match)</td>\n",
       "      <td>Nand Kishore</td>\n",
       "      <td>Rod Tucker</td>\n",
       "      <td>Navdeep Singh</td>\n",
       "      <td>Pankaj Dharmani</td>\n",
       "      <td>Parashar Joshi</td>\n",
       "    </tr>\n",
       "  </tbody>\n",
       "</table>\n",
       "<p>5 rows × 44 columns</p>\n",
       "</div>"
      ],
      "text/plain": [
       "   Unnamed: 0  season       id                                          name  \\\n",
       "0           4  2023.0  1359544  Royal Challengers Bangalore v Gujarat Titans   \n",
       "1           5  2023.0  1359543          Mumbai Indians v Sunrisers Hyderabad   \n",
       "2           6  2023.0  1359542  Kolkata Knight Riders v Lucknow Super Giants   \n",
       "3           7  2023.0  1359541          Delhi Capitals v Chennai Super Kings   \n",
       "4           8  2023.0  1359540               Punjab Kings v Rajasthan Royals   \n",
       "\n",
       "  short_name                                        description home_team  \\\n",
       "0   RCB v GT  70th Match (N), Indian Premier League at Benga...       RCB   \n",
       "1   MI v SRH  69th Match (D/N), Indian Premier League at Mum...        MI   \n",
       "2  KKR v LSG  68th Match (N), Indian Premier League at Kolka...       KKR   \n",
       "3   DC v CSK  67th Match (D/N), Indian Premier League at Del...        DC   \n",
       "4  PBKS v RR  66th Match (N), Indian Premier League at Dhara...      PBKS   \n",
       "\n",
       "  away_team toss_won    decision  ...  \\\n",
       "0        GT       GT  BOWL FIRST  ...   \n",
       "1       SRH       MI  BOWL FIRST  ...   \n",
       "2       LSG      KKR  BOWL FIRST  ...   \n",
       "3       CSK      CSK   BAT FIRST  ...   \n",
       "4        RR       RR  BOWL FIRST  ...   \n",
       "\n",
       "                                         home_playx1  \\\n",
       "0  Virat Kohli (UKN),Faf du Plessis (UKN),Glenn M...   \n",
       "1  Ishan Kishan (WK),Rohit Sharma (UKN),Cameron G...   \n",
       "2  Jason Roy (UKN),Venkatesh Iyer (AR),Nitish Ran...   \n",
       "3  Prithvi Shaw (UKN),David Warner (UKN),Phil Sal...   \n",
       "4  Prabhsimran Singh (UKN),Shikhar Dhawan (UKN),A...   \n",
       "\n",
       "                                         away_playx1  \\\n",
       "0  Wriddhiman Saha (WK),Shubman Gill (UKN),Vijay ...   \n",
       "1  Vivrant Sharma (AR),Mayank Agarwal (UKN),Heinr...   \n",
       "2  Karan Sharma (AR),Quinton de Kock (WK),Prerak ...   \n",
       "3  Ruturaj Gaikwad (UKN),Devon Conway (UKN),Shiva...   \n",
       "4  Yashasvi Jaiswal (UKN),Jos Buttler (UKN),Devdu...   \n",
       "\n",
       "                    away_key_batsman                    away_key_bowler  \\\n",
       "0         Shubman Gill,Vijay Shankar             Noor Ahmad,Rashid Khan   \n",
       "1      Mayank Agarwal,Vivrant Sharma     Bhuvneshwar Kumar,Mayank Dagar   \n",
       "2    Nicholas Pooran,Quinton de Kock           Ravi Bishnoi,Yash Thakur   \n",
       "3       Devon Conway,Ruturaj Gaikwad  Deepak Chahar,Matheesha Pathirana   \n",
       "4  Devdutt Padikkal,Yashasvi Jaiswal           Navdeep Saini,Adam Zampa   \n",
       "\n",
       "                                      match_days                umpire1  \\\n",
       "0      21 May 2023 - night match (20-over match)            Nitin Menon   \n",
       "1  21 May 2023 - day/night match (20-over match)  KN Ananthapadmanabhan   \n",
       "2      20 May 2023 - night match (20-over match)           Ulhas Gandhe   \n",
       "3  20 May 2023 - day/night match (20-over match)         Chris Gaffaney   \n",
       "4      19 May 2023 - night match (20-over match)           Nand Kishore   \n",
       "\n",
       "                 umpire2       tv_umpire          referee    reserve_umpire  \n",
       "0        Virender Sharma    Tapan Sharma  Javagal Srinath        VM  Dhokre  \n",
       "1             Rod Tucker    Rohan Pandit  Pankaj Dharmani    Parashar Joshi  \n",
       "2  Jayaraman Madanagopal  Yeshwant Barde      Manu Nayyar      Mohamed Rafi  \n",
       "3      Nikhil Patwardhan  Anil Chaudhary     Sanjay Verma  Mohit Krishnadas  \n",
       "4             Rod Tucker   Navdeep Singh  Pankaj Dharmani    Parashar Joshi  \n",
       "\n",
       "[5 rows x 44 columns]"
      ]
     },
     "execution_count": 2,
     "metadata": {},
     "output_type": "execute_result"
    }
   ],
   "source": [
    "data = pd.read_csv(\"/kaggle/input/ipl-cricket-data-2008-2023/Ipl-clean-data2008-2023.csv\")\n",
    "data.head()"
   ]
  },
  {
   "cell_type": "markdown",
   "id": "caf50857",
   "metadata": {
    "papermill": {
     "duration": 0.01463,
     "end_time": "2024-04-02T10:48:26.557220",
     "exception": false,
     "start_time": "2024-04-02T10:48:26.542590",
     "status": "completed"
    },
    "tags": []
   },
   "source": [
    "*Using .info() method is typically used in conjunction with pandas DataFrames. It provides a concise summary of the DataFrame, including information about the data types, non-null values, and memory usage. **"
   ]
  },
  {
   "cell_type": "code",
   "execution_count": 3,
   "id": "be5c19bd",
   "metadata": {
    "execution": {
     "iopub.execute_input": "2024-04-02T10:48:26.589847Z",
     "iopub.status.busy": "2024-04-02T10:48:26.588587Z",
     "iopub.status.idle": "2024-04-02T10:48:26.618997Z",
     "shell.execute_reply": "2024-04-02T10:48:26.617841Z"
    },
    "papermill": {
     "duration": 0.050986,
     "end_time": "2024-04-02T10:48:26.622738",
     "exception": false,
     "start_time": "2024-04-02T10:48:26.571752",
     "status": "completed"
    },
    "tags": []
   },
   "outputs": [
    {
     "name": "stdout",
     "output_type": "stream",
     "text": [
      "<class 'pandas.core.frame.DataFrame'>\n",
      "RangeIndex: 899 entries, 0 to 898\n",
      "Data columns (total 44 columns):\n",
      " #   Column            Non-Null Count  Dtype  \n",
      "---  ------            --------------  -----  \n",
      " 0   Unnamed: 0        899 non-null    int64  \n",
      " 1   season            899 non-null    float64\n",
      " 2   id                899 non-null    int64  \n",
      " 3   name              899 non-null    object \n",
      " 4   short_name        899 non-null    object \n",
      " 5   description       899 non-null    object \n",
      " 6   home_team         899 non-null    object \n",
      " 7   away_team         899 non-null    object \n",
      " 8   toss_won          899 non-null    object \n",
      " 9   decision          899 non-null    object \n",
      " 10  1st_inning_score  899 non-null    object \n",
      " 11  2nd_inning_score  899 non-null    object \n",
      " 12  winner            899 non-null    object \n",
      " 13  result            899 non-null    object \n",
      " 14  start_date        899 non-null    object \n",
      " 15  end_date          899 non-null    object \n",
      " 16  venue_id          899 non-null    int64  \n",
      " 17  venue_name        899 non-null    object \n",
      " 18  home_captain      899 non-null    object \n",
      " 19  away_captain      899 non-null    object \n",
      " 20  pom               899 non-null    object \n",
      " 21  points            899 non-null    object \n",
      " 22  super_over        899 non-null    bool   \n",
      " 23  home_overs        899 non-null    float64\n",
      " 24  home_runs         899 non-null    float64\n",
      " 25  home_wickets      899 non-null    float64\n",
      " 26  home_boundaries   899 non-null    float64\n",
      " 27  away_overs        899 non-null    float64\n",
      " 28  away_runs         899 non-null    float64\n",
      " 29  away_wickets      899 non-null    float64\n",
      " 30  away_boundaries   899 non-null    float64\n",
      " 31  highlights        899 non-null    object \n",
      " 32  home_key_batsman  899 non-null    object \n",
      " 33  home_key_bowler   899 non-null    object \n",
      " 34  home_playx1       899 non-null    object \n",
      " 35  away_playx1       899 non-null    object \n",
      " 36  away_key_batsman  899 non-null    object \n",
      " 37  away_key_bowler   899 non-null    object \n",
      " 38  match_days        899 non-null    object \n",
      " 39  umpire1           899 non-null    object \n",
      " 40  umpire2           899 non-null    object \n",
      " 41  tv_umpire         899 non-null    object \n",
      " 42  referee           899 non-null    object \n",
      " 43  reserve_umpire    899 non-null    object \n",
      "dtypes: bool(1), float64(9), int64(3), object(31)\n",
      "memory usage: 303.0+ KB\n"
     ]
    }
   ],
   "source": [
    "data.info()"
   ]
  },
  {
   "cell_type": "markdown",
   "id": "3755e13b",
   "metadata": {
    "papermill": {
     "duration": 0.014473,
     "end_time": "2024-04-02T10:48:26.652247",
     "exception": false,
     "start_time": "2024-04-02T10:48:26.637774",
     "status": "completed"
    },
    "tags": []
   },
   "source": [
    "creating the sql database"
   ]
  },
  {
   "cell_type": "code",
   "execution_count": 4,
   "id": "a6d658cd",
   "metadata": {
    "execution": {
     "iopub.execute_input": "2024-04-02T10:48:26.684672Z",
     "iopub.status.busy": "2024-04-02T10:48:26.683326Z",
     "iopub.status.idle": "2024-04-02T10:48:26.762562Z",
     "shell.execute_reply": "2024-04-02T10:48:26.761442Z"
    },
    "papermill": {
     "duration": 0.098355,
     "end_time": "2024-04-02T10:48:26.765387",
     "exception": false,
     "start_time": "2024-04-02T10:48:26.667032",
     "status": "completed"
    },
    "tags": []
   },
   "outputs": [],
   "source": [
    "conn = sqlite3.connect(\"ipl_data\")\n",
    "datasql=data.to_sql('ipl_data',conn,if_exists='replace',index=True)"
   ]
  },
  {
   "cell_type": "markdown",
   "id": "1292821a",
   "metadata": {
    "papermill": {
     "duration": 0.01424,
     "end_time": "2024-04-02T10:48:26.794236",
     "exception": false,
     "start_time": "2024-04-02T10:48:26.779996",
     "status": "completed"
    },
    "tags": []
   },
   "source": [
    "# 2.Data Preparation and Cleaning\n",
    "**Following steps are going to be performed:**\n",
    "\n",
    "* Index sorting by deploying sort_index() method. It will provide an easy access to data\n",
    "* Evaluating the presence duplicate values in dataframes\n",
    "* droping the unwanted column\n",
    "* checking for the null values"
   ]
  },
  {
   "cell_type": "code",
   "execution_count": 5,
   "id": "e6464e99",
   "metadata": {
    "execution": {
     "iopub.execute_input": "2024-04-02T10:48:26.825237Z",
     "iopub.status.busy": "2024-04-02T10:48:26.824853Z",
     "iopub.status.idle": "2024-04-02T10:48:26.858469Z",
     "shell.execute_reply": "2024-04-02T10:48:26.857367Z"
    },
    "papermill": {
     "duration": 0.052909,
     "end_time": "2024-04-02T10:48:26.861629",
     "exception": false,
     "start_time": "2024-04-02T10:48:26.808720",
     "status": "completed"
    },
    "tags": []
   },
   "outputs": [
    {
     "data": {
      "text/html": [
       "<div>\n",
       "<style scoped>\n",
       "    .dataframe tbody tr th:only-of-type {\n",
       "        vertical-align: middle;\n",
       "    }\n",
       "\n",
       "    .dataframe tbody tr th {\n",
       "        vertical-align: top;\n",
       "    }\n",
       "\n",
       "    .dataframe thead th {\n",
       "        text-align: right;\n",
       "    }\n",
       "</style>\n",
       "<table border=\"1\" class=\"dataframe\">\n",
       "  <thead>\n",
       "    <tr style=\"text-align: right;\">\n",
       "      <th></th>\n",
       "      <th>Unnamed: 0</th>\n",
       "      <th>season</th>\n",
       "      <th>id</th>\n",
       "      <th>name</th>\n",
       "      <th>short_name</th>\n",
       "      <th>description</th>\n",
       "      <th>home_team</th>\n",
       "      <th>away_team</th>\n",
       "      <th>toss_won</th>\n",
       "      <th>decision</th>\n",
       "      <th>...</th>\n",
       "      <th>home_playx1</th>\n",
       "      <th>away_playx1</th>\n",
       "      <th>away_key_batsman</th>\n",
       "      <th>away_key_bowler</th>\n",
       "      <th>match_days</th>\n",
       "      <th>umpire1</th>\n",
       "      <th>umpire2</th>\n",
       "      <th>tv_umpire</th>\n",
       "      <th>referee</th>\n",
       "      <th>reserve_umpire</th>\n",
       "    </tr>\n",
       "  </thead>\n",
       "  <tbody>\n",
       "    <tr>\n",
       "      <th>0</th>\n",
       "      <td>4</td>\n",
       "      <td>2023.0</td>\n",
       "      <td>1359544</td>\n",
       "      <td>Royal Challengers Bangalore v Gujarat Titans</td>\n",
       "      <td>RCB v GT</td>\n",
       "      <td>70th Match (N), Indian Premier League at Benga...</td>\n",
       "      <td>RCB</td>\n",
       "      <td>GT</td>\n",
       "      <td>GT</td>\n",
       "      <td>BOWL FIRST</td>\n",
       "      <td>...</td>\n",
       "      <td>Virat Kohli (UKN),Faf du Plessis (UKN),Glenn M...</td>\n",
       "      <td>Wriddhiman Saha (WK),Shubman Gill (UKN),Vijay ...</td>\n",
       "      <td>Shubman Gill,Vijay Shankar</td>\n",
       "      <td>Noor Ahmad,Rashid Khan</td>\n",
       "      <td>21 May 2023 - night match (20-over match)</td>\n",
       "      <td>Nitin Menon</td>\n",
       "      <td>Virender Sharma</td>\n",
       "      <td>Tapan Sharma</td>\n",
       "      <td>Javagal Srinath</td>\n",
       "      <td>VM  Dhokre</td>\n",
       "    </tr>\n",
       "    <tr>\n",
       "      <th>1</th>\n",
       "      <td>5</td>\n",
       "      <td>2023.0</td>\n",
       "      <td>1359543</td>\n",
       "      <td>Mumbai Indians v Sunrisers Hyderabad</td>\n",
       "      <td>MI v SRH</td>\n",
       "      <td>69th Match (D/N), Indian Premier League at Mum...</td>\n",
       "      <td>MI</td>\n",
       "      <td>SRH</td>\n",
       "      <td>MI</td>\n",
       "      <td>BOWL FIRST</td>\n",
       "      <td>...</td>\n",
       "      <td>Ishan Kishan (WK),Rohit Sharma (UKN),Cameron G...</td>\n",
       "      <td>Vivrant Sharma (AR),Mayank Agarwal (UKN),Heinr...</td>\n",
       "      <td>Mayank Agarwal,Vivrant Sharma</td>\n",
       "      <td>Bhuvneshwar Kumar,Mayank Dagar</td>\n",
       "      <td>21 May 2023 - day/night match (20-over match)</td>\n",
       "      <td>KN Ananthapadmanabhan</td>\n",
       "      <td>Rod Tucker</td>\n",
       "      <td>Rohan Pandit</td>\n",
       "      <td>Pankaj Dharmani</td>\n",
       "      <td>Parashar Joshi</td>\n",
       "    </tr>\n",
       "    <tr>\n",
       "      <th>2</th>\n",
       "      <td>6</td>\n",
       "      <td>2023.0</td>\n",
       "      <td>1359542</td>\n",
       "      <td>Kolkata Knight Riders v Lucknow Super Giants</td>\n",
       "      <td>KKR v LSG</td>\n",
       "      <td>68th Match (N), Indian Premier League at Kolka...</td>\n",
       "      <td>KKR</td>\n",
       "      <td>LSG</td>\n",
       "      <td>KKR</td>\n",
       "      <td>BOWL FIRST</td>\n",
       "      <td>...</td>\n",
       "      <td>Jason Roy (UKN),Venkatesh Iyer (AR),Nitish Ran...</td>\n",
       "      <td>Karan Sharma (AR),Quinton de Kock (WK),Prerak ...</td>\n",
       "      <td>Nicholas Pooran,Quinton de Kock</td>\n",
       "      <td>Ravi Bishnoi,Yash Thakur</td>\n",
       "      <td>20 May 2023 - night match (20-over match)</td>\n",
       "      <td>Ulhas Gandhe</td>\n",
       "      <td>Jayaraman Madanagopal</td>\n",
       "      <td>Yeshwant Barde</td>\n",
       "      <td>Manu Nayyar</td>\n",
       "      <td>Mohamed Rafi</td>\n",
       "    </tr>\n",
       "    <tr>\n",
       "      <th>3</th>\n",
       "      <td>7</td>\n",
       "      <td>2023.0</td>\n",
       "      <td>1359541</td>\n",
       "      <td>Delhi Capitals v Chennai Super Kings</td>\n",
       "      <td>DC v CSK</td>\n",
       "      <td>67th Match (D/N), Indian Premier League at Del...</td>\n",
       "      <td>DC</td>\n",
       "      <td>CSK</td>\n",
       "      <td>CSK</td>\n",
       "      <td>BAT FIRST</td>\n",
       "      <td>...</td>\n",
       "      <td>Prithvi Shaw (UKN),David Warner (UKN),Phil Sal...</td>\n",
       "      <td>Ruturaj Gaikwad (UKN),Devon Conway (UKN),Shiva...</td>\n",
       "      <td>Devon Conway,Ruturaj Gaikwad</td>\n",
       "      <td>Deepak Chahar,Matheesha Pathirana</td>\n",
       "      <td>20 May 2023 - day/night match (20-over match)</td>\n",
       "      <td>Chris Gaffaney</td>\n",
       "      <td>Nikhil Patwardhan</td>\n",
       "      <td>Anil Chaudhary</td>\n",
       "      <td>Sanjay Verma</td>\n",
       "      <td>Mohit Krishnadas</td>\n",
       "    </tr>\n",
       "    <tr>\n",
       "      <th>4</th>\n",
       "      <td>8</td>\n",
       "      <td>2023.0</td>\n",
       "      <td>1359540</td>\n",
       "      <td>Punjab Kings v Rajasthan Royals</td>\n",
       "      <td>PBKS v RR</td>\n",
       "      <td>66th Match (N), Indian Premier League at Dhara...</td>\n",
       "      <td>PBKS</td>\n",
       "      <td>RR</td>\n",
       "      <td>RR</td>\n",
       "      <td>BOWL FIRST</td>\n",
       "      <td>...</td>\n",
       "      <td>Prabhsimran Singh (UKN),Shikhar Dhawan (UKN),A...</td>\n",
       "      <td>Yashasvi Jaiswal (UKN),Jos Buttler (UKN),Devdu...</td>\n",
       "      <td>Devdutt Padikkal,Yashasvi Jaiswal</td>\n",
       "      <td>Navdeep Saini,Adam Zampa</td>\n",
       "      <td>19 May 2023 - night match (20-over match)</td>\n",
       "      <td>Nand Kishore</td>\n",
       "      <td>Rod Tucker</td>\n",
       "      <td>Navdeep Singh</td>\n",
       "      <td>Pankaj Dharmani</td>\n",
       "      <td>Parashar Joshi</td>\n",
       "    </tr>\n",
       "    <tr>\n",
       "      <th>...</th>\n",
       "      <td>...</td>\n",
       "      <td>...</td>\n",
       "      <td>...</td>\n",
       "      <td>...</td>\n",
       "      <td>...</td>\n",
       "      <td>...</td>\n",
       "      <td>...</td>\n",
       "      <td>...</td>\n",
       "      <td>...</td>\n",
       "      <td>...</td>\n",
       "      <td>...</td>\n",
       "      <td>...</td>\n",
       "      <td>...</td>\n",
       "      <td>...</td>\n",
       "      <td>...</td>\n",
       "      <td>...</td>\n",
       "      <td>...</td>\n",
       "      <td>...</td>\n",
       "      <td>...</td>\n",
       "      <td>...</td>\n",
       "      <td>...</td>\n",
       "    </tr>\n",
       "    <tr>\n",
       "      <th>894</th>\n",
       "      <td>1016</td>\n",
       "      <td>2008.0</td>\n",
       "      <td>336027</td>\n",
       "      <td>Kolkata Knight Riders v Rajasthan Royals</td>\n",
       "      <td>KKR v RR</td>\n",
       "      <td>44th match (N), Indian Premier League at Kolka...</td>\n",
       "      <td>KKR</td>\n",
       "      <td>RR</td>\n",
       "      <td>RR</td>\n",
       "      <td>BOWL FIRST</td>\n",
       "      <td>...</td>\n",
       "      <td>Salman Butt (BT),Mohammad Hafeez (AR),Sourav G...</td>\n",
       "      <td>Graeme Smith (BT),Swapnil Asnodkar (BT),Sohail...</td>\n",
       "      <td>Yusuf Pathan,Mohammad Kaif</td>\n",
       "      <td>Sohail Tanvir,Munaf Patel</td>\n",
       "      <td>20 May 2008 - night match (20-over match)</td>\n",
       "      <td>Rudi Koertzen</td>\n",
       "      <td>Brian Jerling</td>\n",
       "      <td>Krishna Hariharan</td>\n",
       "      <td>Farokh Engineer</td>\n",
       "      <td>Abhik Mitra</td>\n",
       "    </tr>\n",
       "    <tr>\n",
       "      <th>895</th>\n",
       "      <td>1018</td>\n",
       "      <td>2008.0</td>\n",
       "      <td>336029</td>\n",
       "      <td>Chennai Super Kings v Royal Challengers Bangalore</td>\n",
       "      <td>CSK v RCB</td>\n",
       "      <td>46th match (N), Indian Premier League at Chenn...</td>\n",
       "      <td>CSK</td>\n",
       "      <td>RCB</td>\n",
       "      <td>RCB</td>\n",
       "      <td>BAT FIRST</td>\n",
       "      <td>...</td>\n",
       "      <td>Parthiv Patel (WK),Stephen Fleming (BT),MS Dho...</td>\n",
       "      <td>Jacques Kallis (AR),Shreevats Goswami (BT),Vir...</td>\n",
       "      <td>Rahul Dravid,Praveen Kumar</td>\n",
       "      <td>Anil Kumble,Dale Steyn</td>\n",
       "      <td>21 May 2008 - night match (20-over match)</td>\n",
       "      <td>Daryl Harper</td>\n",
       "      <td>Ivaturi Shivram</td>\n",
       "      <td>Billy Doctrove</td>\n",
       "      <td>Javagal Srinath</td>\n",
       "      <td>Sundaram Ravi</td>\n",
       "    </tr>\n",
       "    <tr>\n",
       "      <th>896</th>\n",
       "      <td>1020</td>\n",
       "      <td>2008.0</td>\n",
       "      <td>336031</td>\n",
       "      <td>Kings XI Punjab v Deccan Chargers</td>\n",
       "      <td>KXIP v DC</td>\n",
       "      <td>48th match (N), Indian Premier League at Mohal...</td>\n",
       "      <td>KXIP</td>\n",
       "      <td>SRH</td>\n",
       "      <td>KXIP</td>\n",
       "      <td>BOWL FIRST</td>\n",
       "      <td>...</td>\n",
       "      <td>Shaun Marsh (BT),Kumar Sangakkara (WK),Yuvraj ...</td>\n",
       "      <td>Adam Gilchrist (WK),Herschelle Gibbs (UKN),Roh...</td>\n",
       "      <td>Rohit Sharma,Adam Gilchrist</td>\n",
       "      <td>Pragyan Ojha,Rohit Sharma</td>\n",
       "      <td>23 May 2008 - night match (20-over match)</td>\n",
       "      <td>Asad Rauf</td>\n",
       "      <td>Steve Davis</td>\n",
       "      <td>Amiesh Saheba</td>\n",
       "      <td>Talat Ali</td>\n",
       "      <td>Sekhon</td>\n",
       "    </tr>\n",
       "    <tr>\n",
       "      <th>897</th>\n",
       "      <td>1025</td>\n",
       "      <td>2008.0</td>\n",
       "      <td>336036</td>\n",
       "      <td>Rajasthan Royals v Mumbai Indians</td>\n",
       "      <td>RR v MI</td>\n",
       "      <td>53rd match (N), Indian Premier League at Jaipu...</td>\n",
       "      <td>RR</td>\n",
       "      <td>MI</td>\n",
       "      <td>RR</td>\n",
       "      <td>BOWL FIRST</td>\n",
       "      <td>...</td>\n",
       "      <td>Kamran Akmal (WK),Swapnil Asnodkar (BT),Yusuf ...</td>\n",
       "      <td>Sanath Jayasuriya (AR),Sachin Tendulkar (BT),A...</td>\n",
       "      <td>Sanath Jayasuriya,Sachin Tendulkar</td>\n",
       "      <td>Dilhara Fernando,Rohan Raje</td>\n",
       "      <td>26 May 2008 - night match (20-over match)</td>\n",
       "      <td>Billy Bowden</td>\n",
       "      <td>Krishna Hariharan</td>\n",
       "      <td>Suresh Shastri</td>\n",
       "      <td>Sir Clive Lloyd</td>\n",
       "      <td>MSS Ranawat</td>\n",
       "    </tr>\n",
       "    <tr>\n",
       "      <th>898</th>\n",
       "      <td>1028</td>\n",
       "      <td>2008.0</td>\n",
       "      <td>336019</td>\n",
       "      <td>Kings XI Punjab v Rajasthan Royals</td>\n",
       "      <td>KXIP v RR</td>\n",
       "      <td>56th match (N), Indian Premier League at Mohal...</td>\n",
       "      <td>KXIP</td>\n",
       "      <td>RR</td>\n",
       "      <td>RR</td>\n",
       "      <td>BOWL FIRST</td>\n",
       "      <td>...</td>\n",
       "      <td>Shaun Marsh (BT),James Hopes (AR),Yuvraj Singh...</td>\n",
       "      <td>Mohammad Kaif (BT),Niraj Patel (UKN),Younis Kh...</td>\n",
       "      <td>Niraj Patel,Yusuf Pathan</td>\n",
       "      <td>Shane Watson,Yusuf Pathan</td>\n",
       "      <td>28 May 2008 - night match (20-over match)</td>\n",
       "      <td>Krishna Hariharan</td>\n",
       "      <td>Steve Davis</td>\n",
       "      <td>Daryl Harper</td>\n",
       "      <td>Srinivas Venkataraghavan</td>\n",
       "      <td>MS Mahal</td>\n",
       "    </tr>\n",
       "  </tbody>\n",
       "</table>\n",
       "<p>899 rows × 44 columns</p>\n",
       "</div>"
      ],
      "text/plain": [
       "     Unnamed: 0  season       id  \\\n",
       "0             4  2023.0  1359544   \n",
       "1             5  2023.0  1359543   \n",
       "2             6  2023.0  1359542   \n",
       "3             7  2023.0  1359541   \n",
       "4             8  2023.0  1359540   \n",
       "..          ...     ...      ...   \n",
       "894        1016  2008.0   336027   \n",
       "895        1018  2008.0   336029   \n",
       "896        1020  2008.0   336031   \n",
       "897        1025  2008.0   336036   \n",
       "898        1028  2008.0   336019   \n",
       "\n",
       "                                                  name short_name  \\\n",
       "0         Royal Challengers Bangalore v Gujarat Titans   RCB v GT   \n",
       "1                 Mumbai Indians v Sunrisers Hyderabad   MI v SRH   \n",
       "2         Kolkata Knight Riders v Lucknow Super Giants  KKR v LSG   \n",
       "3                 Delhi Capitals v Chennai Super Kings   DC v CSK   \n",
       "4                      Punjab Kings v Rajasthan Royals  PBKS v RR   \n",
       "..                                                 ...        ...   \n",
       "894           Kolkata Knight Riders v Rajasthan Royals   KKR v RR   \n",
       "895  Chennai Super Kings v Royal Challengers Bangalore  CSK v RCB   \n",
       "896                  Kings XI Punjab v Deccan Chargers  KXIP v DC   \n",
       "897                  Rajasthan Royals v Mumbai Indians    RR v MI   \n",
       "898                 Kings XI Punjab v Rajasthan Royals  KXIP v RR   \n",
       "\n",
       "                                           description home_team away_team  \\\n",
       "0    70th Match (N), Indian Premier League at Benga...       RCB        GT   \n",
       "1    69th Match (D/N), Indian Premier League at Mum...        MI       SRH   \n",
       "2    68th Match (N), Indian Premier League at Kolka...       KKR       LSG   \n",
       "3    67th Match (D/N), Indian Premier League at Del...        DC       CSK   \n",
       "4    66th Match (N), Indian Premier League at Dhara...      PBKS        RR   \n",
       "..                                                 ...       ...       ...   \n",
       "894  44th match (N), Indian Premier League at Kolka...       KKR        RR   \n",
       "895  46th match (N), Indian Premier League at Chenn...       CSK       RCB   \n",
       "896  48th match (N), Indian Premier League at Mohal...      KXIP       SRH   \n",
       "897  53rd match (N), Indian Premier League at Jaipu...        RR        MI   \n",
       "898  56th match (N), Indian Premier League at Mohal...      KXIP        RR   \n",
       "\n",
       "    toss_won    decision  ...  \\\n",
       "0         GT  BOWL FIRST  ...   \n",
       "1         MI  BOWL FIRST  ...   \n",
       "2        KKR  BOWL FIRST  ...   \n",
       "3        CSK   BAT FIRST  ...   \n",
       "4         RR  BOWL FIRST  ...   \n",
       "..       ...         ...  ...   \n",
       "894       RR  BOWL FIRST  ...   \n",
       "895      RCB   BAT FIRST  ...   \n",
       "896     KXIP  BOWL FIRST  ...   \n",
       "897       RR  BOWL FIRST  ...   \n",
       "898       RR  BOWL FIRST  ...   \n",
       "\n",
       "                                           home_playx1  \\\n",
       "0    Virat Kohli (UKN),Faf du Plessis (UKN),Glenn M...   \n",
       "1    Ishan Kishan (WK),Rohit Sharma (UKN),Cameron G...   \n",
       "2    Jason Roy (UKN),Venkatesh Iyer (AR),Nitish Ran...   \n",
       "3    Prithvi Shaw (UKN),David Warner (UKN),Phil Sal...   \n",
       "4    Prabhsimran Singh (UKN),Shikhar Dhawan (UKN),A...   \n",
       "..                                                 ...   \n",
       "894  Salman Butt (BT),Mohammad Hafeez (AR),Sourav G...   \n",
       "895  Parthiv Patel (WK),Stephen Fleming (BT),MS Dho...   \n",
       "896  Shaun Marsh (BT),Kumar Sangakkara (WK),Yuvraj ...   \n",
       "897  Kamran Akmal (WK),Swapnil Asnodkar (BT),Yusuf ...   \n",
       "898  Shaun Marsh (BT),James Hopes (AR),Yuvraj Singh...   \n",
       "\n",
       "                                           away_playx1  \\\n",
       "0    Wriddhiman Saha (WK),Shubman Gill (UKN),Vijay ...   \n",
       "1    Vivrant Sharma (AR),Mayank Agarwal (UKN),Heinr...   \n",
       "2    Karan Sharma (AR),Quinton de Kock (WK),Prerak ...   \n",
       "3    Ruturaj Gaikwad (UKN),Devon Conway (UKN),Shiva...   \n",
       "4    Yashasvi Jaiswal (UKN),Jos Buttler (UKN),Devdu...   \n",
       "..                                                 ...   \n",
       "894  Graeme Smith (BT),Swapnil Asnodkar (BT),Sohail...   \n",
       "895  Jacques Kallis (AR),Shreevats Goswami (BT),Vir...   \n",
       "896  Adam Gilchrist (WK),Herschelle Gibbs (UKN),Roh...   \n",
       "897  Sanath Jayasuriya (AR),Sachin Tendulkar (BT),A...   \n",
       "898  Mohammad Kaif (BT),Niraj Patel (UKN),Younis Kh...   \n",
       "\n",
       "                       away_key_batsman                    away_key_bowler  \\\n",
       "0            Shubman Gill,Vijay Shankar             Noor Ahmad,Rashid Khan   \n",
       "1         Mayank Agarwal,Vivrant Sharma     Bhuvneshwar Kumar,Mayank Dagar   \n",
       "2       Nicholas Pooran,Quinton de Kock           Ravi Bishnoi,Yash Thakur   \n",
       "3          Devon Conway,Ruturaj Gaikwad  Deepak Chahar,Matheesha Pathirana   \n",
       "4     Devdutt Padikkal,Yashasvi Jaiswal           Navdeep Saini,Adam Zampa   \n",
       "..                                  ...                                ...   \n",
       "894          Yusuf Pathan,Mohammad Kaif          Sohail Tanvir,Munaf Patel   \n",
       "895          Rahul Dravid,Praveen Kumar             Anil Kumble,Dale Steyn   \n",
       "896         Rohit Sharma,Adam Gilchrist          Pragyan Ojha,Rohit Sharma   \n",
       "897  Sanath Jayasuriya,Sachin Tendulkar        Dilhara Fernando,Rohan Raje   \n",
       "898            Niraj Patel,Yusuf Pathan          Shane Watson,Yusuf Pathan   \n",
       "\n",
       "                                        match_days                umpire1  \\\n",
       "0        21 May 2023 - night match (20-over match)            Nitin Menon   \n",
       "1    21 May 2023 - day/night match (20-over match)  KN Ananthapadmanabhan   \n",
       "2        20 May 2023 - night match (20-over match)           Ulhas Gandhe   \n",
       "3    20 May 2023 - day/night match (20-over match)         Chris Gaffaney   \n",
       "4        19 May 2023 - night match (20-over match)           Nand Kishore   \n",
       "..                                             ...                    ...   \n",
       "894      20 May 2008 - night match (20-over match)          Rudi Koertzen   \n",
       "895      21 May 2008 - night match (20-over match)           Daryl Harper   \n",
       "896      23 May 2008 - night match (20-over match)              Asad Rauf   \n",
       "897      26 May 2008 - night match (20-over match)           Billy Bowden   \n",
       "898      28 May 2008 - night match (20-over match)      Krishna Hariharan   \n",
       "\n",
       "                   umpire2          tv_umpire                   referee  \\\n",
       "0          Virender Sharma       Tapan Sharma           Javagal Srinath   \n",
       "1               Rod Tucker       Rohan Pandit           Pankaj Dharmani   \n",
       "2    Jayaraman Madanagopal     Yeshwant Barde               Manu Nayyar   \n",
       "3        Nikhil Patwardhan     Anil Chaudhary              Sanjay Verma   \n",
       "4               Rod Tucker      Navdeep Singh           Pankaj Dharmani   \n",
       "..                     ...                ...                       ...   \n",
       "894          Brian Jerling  Krishna Hariharan           Farokh Engineer   \n",
       "895        Ivaturi Shivram     Billy Doctrove           Javagal Srinath   \n",
       "896            Steve Davis      Amiesh Saheba                 Talat Ali   \n",
       "897      Krishna Hariharan     Suresh Shastri           Sir Clive Lloyd   \n",
       "898            Steve Davis       Daryl Harper  Srinivas Venkataraghavan   \n",
       "\n",
       "       reserve_umpire  \n",
       "0          VM  Dhokre  \n",
       "1      Parashar Joshi  \n",
       "2        Mohamed Rafi  \n",
       "3    Mohit Krishnadas  \n",
       "4      Parashar Joshi  \n",
       "..                ...  \n",
       "894       Abhik Mitra  \n",
       "895     Sundaram Ravi  \n",
       "896            Sekhon  \n",
       "897       MSS Ranawat  \n",
       "898          MS Mahal  \n",
       "\n",
       "[899 rows x 44 columns]"
      ]
     },
     "execution_count": 5,
     "metadata": {},
     "output_type": "execute_result"
    }
   ],
   "source": [
    "data.sort_index()"
   ]
  },
  {
   "cell_type": "code",
   "execution_count": 6,
   "id": "474b748f",
   "metadata": {
    "execution": {
     "iopub.execute_input": "2024-04-02T10:48:26.894299Z",
     "iopub.status.busy": "2024-04-02T10:48:26.893918Z",
     "iopub.status.idle": "2024-04-02T10:48:26.921268Z",
     "shell.execute_reply": "2024-04-02T10:48:26.920087Z"
    },
    "papermill": {
     "duration": 0.046884,
     "end_time": "2024-04-02T10:48:26.923854",
     "exception": false,
     "start_time": "2024-04-02T10:48:26.876970",
     "status": "completed"
    },
    "tags": []
   },
   "outputs": [
    {
     "data": {
      "text/html": [
       "<div>\n",
       "<style scoped>\n",
       "    .dataframe tbody tr th:only-of-type {\n",
       "        vertical-align: middle;\n",
       "    }\n",
       "\n",
       "    .dataframe tbody tr th {\n",
       "        vertical-align: top;\n",
       "    }\n",
       "\n",
       "    .dataframe thead th {\n",
       "        text-align: right;\n",
       "    }\n",
       "</style>\n",
       "<table border=\"1\" class=\"dataframe\">\n",
       "  <thead>\n",
       "    <tr style=\"text-align: right;\">\n",
       "      <th></th>\n",
       "      <th>Unnamed: 0</th>\n",
       "      <th>season</th>\n",
       "      <th>id</th>\n",
       "      <th>name</th>\n",
       "      <th>short_name</th>\n",
       "      <th>description</th>\n",
       "      <th>home_team</th>\n",
       "      <th>away_team</th>\n",
       "      <th>toss_won</th>\n",
       "      <th>decision</th>\n",
       "      <th>...</th>\n",
       "      <th>home_playx1</th>\n",
       "      <th>away_playx1</th>\n",
       "      <th>away_key_batsman</th>\n",
       "      <th>away_key_bowler</th>\n",
       "      <th>match_days</th>\n",
       "      <th>umpire1</th>\n",
       "      <th>umpire2</th>\n",
       "      <th>tv_umpire</th>\n",
       "      <th>referee</th>\n",
       "      <th>reserve_umpire</th>\n",
       "    </tr>\n",
       "  </thead>\n",
       "  <tbody>\n",
       "  </tbody>\n",
       "</table>\n",
       "<p>0 rows × 44 columns</p>\n",
       "</div>"
      ],
      "text/plain": [
       "Empty DataFrame\n",
       "Columns: [Unnamed: 0, season, id, name, short_name, description, home_team, away_team, toss_won, decision, 1st_inning_score, 2nd_inning_score, winner, result, start_date, end_date, venue_id, venue_name, home_captain, away_captain, pom, points, super_over, home_overs, home_runs, home_wickets, home_boundaries, away_overs, away_runs, away_wickets, away_boundaries, highlights, home_key_batsman, home_key_bowler, home_playx1, away_playx1, away_key_batsman, away_key_bowler, match_days, umpire1, umpire2, tv_umpire, referee, reserve_umpire]\n",
       "Index: []\n",
       "\n",
       "[0 rows x 44 columns]"
      ]
     },
     "execution_count": 6,
     "metadata": {},
     "output_type": "execute_result"
    }
   ],
   "source": [
    "data[data.duplicated()]"
   ]
  },
  {
   "cell_type": "markdown",
   "id": "26529f96",
   "metadata": {
    "papermill": {
     "duration": 0.01545,
     "end_time": "2024-04-02T10:48:26.954852",
     "exception": false,
     "start_time": "2024-04-02T10:48:26.939402",
     "status": "completed"
    },
    "tags": []
   },
   "source": [
    "no dupliacte present in the dataset"
   ]
  },
  {
   "cell_type": "code",
   "execution_count": 7,
   "id": "a7df93ca",
   "metadata": {
    "execution": {
     "iopub.execute_input": "2024-04-02T10:48:26.987873Z",
     "iopub.status.busy": "2024-04-02T10:48:26.987422Z",
     "iopub.status.idle": "2024-04-02T10:48:26.994376Z",
     "shell.execute_reply": "2024-04-02T10:48:26.993276Z"
    },
    "papermill": {
     "duration": 0.026537,
     "end_time": "2024-04-02T10:48:26.996939",
     "exception": false,
     "start_time": "2024-04-02T10:48:26.970402",
     "status": "completed"
    },
    "tags": []
   },
   "outputs": [
    {
     "data": {
      "text/plain": [
       "Index(['Unnamed: 0', 'season', 'id', 'name', 'short_name', 'description',\n",
       "       'home_team', 'away_team', 'toss_won', 'decision', '1st_inning_score',\n",
       "       '2nd_inning_score', 'winner', 'result', 'start_date', 'end_date',\n",
       "       'venue_id', 'venue_name', 'home_captain', 'away_captain', 'pom',\n",
       "       'points', 'super_over', 'home_overs', 'home_runs', 'home_wickets',\n",
       "       'home_boundaries', 'away_overs', 'away_runs', 'away_wickets',\n",
       "       'away_boundaries', 'highlights', 'home_key_batsman', 'home_key_bowler',\n",
       "       'home_playx1', 'away_playx1', 'away_key_batsman', 'away_key_bowler',\n",
       "       'match_days', 'umpire1', 'umpire2', 'tv_umpire', 'referee',\n",
       "       'reserve_umpire'],\n",
       "      dtype='object')"
      ]
     },
     "execution_count": 7,
     "metadata": {},
     "output_type": "execute_result"
    }
   ],
   "source": [
    "data.columns"
   ]
  },
  {
   "cell_type": "code",
   "execution_count": 8,
   "id": "6d6ce0bf",
   "metadata": {
    "execution": {
     "iopub.execute_input": "2024-04-02T10:48:27.030695Z",
     "iopub.status.busy": "2024-04-02T10:48:27.029878Z",
     "iopub.status.idle": "2024-04-02T10:48:27.040150Z",
     "shell.execute_reply": "2024-04-02T10:48:27.039017Z"
    },
    "papermill": {
     "duration": 0.030021,
     "end_time": "2024-04-02T10:48:27.042595",
     "exception": false,
     "start_time": "2024-04-02T10:48:27.012574",
     "status": "completed"
    },
    "tags": []
   },
   "outputs": [],
   "source": [
    "# Drop the unnamed column\n",
    "data.drop(data.columns[data.columns.str.contains('Unnamed', case=False)], axis=1, inplace=True)\n",
    "columns_to_drop = ['home_boundaries', 'away_boundaries', 'highlights', 'home_key_batsman', 'home_key_bowler', 'home_playx1', \n",
    "                   'away_playx1', 'away_key_batsman', 'away_key_bowler', \n",
    "                   'match_days']\n",
    "data.drop(columns_to_drop, axis=1, inplace=True)"
   ]
  },
  {
   "cell_type": "markdown",
   "id": "277bac37",
   "metadata": {
    "papermill": {
     "duration": 0.015398,
     "end_time": "2024-04-02T10:48:27.073744",
     "exception": false,
     "start_time": "2024-04-02T10:48:27.058346",
     "status": "completed"
    },
    "tags": []
   },
   "source": [
    "**Checking for the null values**"
   ]
  },
  {
   "cell_type": "code",
   "execution_count": 9,
   "id": "91b16473",
   "metadata": {
    "execution": {
     "iopub.execute_input": "2024-04-02T10:48:27.107357Z",
     "iopub.status.busy": "2024-04-02T10:48:27.106942Z",
     "iopub.status.idle": "2024-04-02T10:48:27.118836Z",
     "shell.execute_reply": "2024-04-02T10:48:27.117720Z"
    },
    "papermill": {
     "duration": 0.031475,
     "end_time": "2024-04-02T10:48:27.121203",
     "exception": false,
     "start_time": "2024-04-02T10:48:27.089728",
     "status": "completed"
    },
    "tags": []
   },
   "outputs": [
    {
     "data": {
      "text/plain": [
       "season              0\n",
       "id                  0\n",
       "name                0\n",
       "short_name          0\n",
       "description         0\n",
       "home_team           0\n",
       "away_team           0\n",
       "toss_won            0\n",
       "decision            0\n",
       "1st_inning_score    0\n",
       "2nd_inning_score    0\n",
       "winner              0\n",
       "result              0\n",
       "start_date          0\n",
       "end_date            0\n",
       "venue_id            0\n",
       "venue_name          0\n",
       "home_captain        0\n",
       "away_captain        0\n",
       "pom                 0\n",
       "points              0\n",
       "super_over          0\n",
       "home_overs          0\n",
       "home_runs           0\n",
       "home_wickets        0\n",
       "away_overs          0\n",
       "away_runs           0\n",
       "away_wickets        0\n",
       "umpire1             0\n",
       "umpire2             0\n",
       "tv_umpire           0\n",
       "referee             0\n",
       "reserve_umpire      0\n",
       "dtype: int64"
      ]
     },
     "execution_count": 9,
     "metadata": {},
     "output_type": "execute_result"
    }
   ],
   "source": [
    "data.isna().sum()"
   ]
  },
  {
   "cell_type": "code",
   "execution_count": 10,
   "id": "5f852e2c",
   "metadata": {
    "execution": {
     "iopub.execute_input": "2024-04-02T10:48:27.155006Z",
     "iopub.status.busy": "2024-04-02T10:48:27.154605Z",
     "iopub.status.idle": "2024-04-02T10:48:27.171283Z",
     "shell.execute_reply": "2024-04-02T10:48:27.169841Z"
    },
    "papermill": {
     "duration": 0.036308,
     "end_time": "2024-04-02T10:48:27.173439",
     "exception": false,
     "start_time": "2024-04-02T10:48:27.137131",
     "status": "completed"
    },
    "tags": []
   },
   "outputs": [
    {
     "name": "stdout",
     "output_type": "stream",
     "text": [
      "<class 'pandas.core.frame.DataFrame'>\n",
      "RangeIndex: 899 entries, 0 to 898\n",
      "Data columns (total 33 columns):\n",
      " #   Column            Non-Null Count  Dtype  \n",
      "---  ------            --------------  -----  \n",
      " 0   season            899 non-null    float64\n",
      " 1   id                899 non-null    int64  \n",
      " 2   name              899 non-null    object \n",
      " 3   short_name        899 non-null    object \n",
      " 4   description       899 non-null    object \n",
      " 5   home_team         899 non-null    object \n",
      " 6   away_team         899 non-null    object \n",
      " 7   toss_won          899 non-null    object \n",
      " 8   decision          899 non-null    object \n",
      " 9   1st_inning_score  899 non-null    object \n",
      " 10  2nd_inning_score  899 non-null    object \n",
      " 11  winner            899 non-null    object \n",
      " 12  result            899 non-null    object \n",
      " 13  start_date        899 non-null    object \n",
      " 14  end_date          899 non-null    object \n",
      " 15  venue_id          899 non-null    int64  \n",
      " 16  venue_name        899 non-null    object \n",
      " 17  home_captain      899 non-null    object \n",
      " 18  away_captain      899 non-null    object \n",
      " 19  pom               899 non-null    object \n",
      " 20  points            899 non-null    object \n",
      " 21  super_over        899 non-null    bool   \n",
      " 22  home_overs        899 non-null    float64\n",
      " 23  home_runs         899 non-null    float64\n",
      " 24  home_wickets      899 non-null    float64\n",
      " 25  away_overs        899 non-null    float64\n",
      " 26  away_runs         899 non-null    float64\n",
      " 27  away_wickets      899 non-null    float64\n",
      " 28  umpire1           899 non-null    object \n",
      " 29  umpire2           899 non-null    object \n",
      " 30  tv_umpire         899 non-null    object \n",
      " 31  referee           899 non-null    object \n",
      " 32  reserve_umpire    899 non-null    object \n",
      "dtypes: bool(1), float64(7), int64(2), object(23)\n",
      "memory usage: 225.8+ KB\n"
     ]
    }
   ],
   "source": [
    "data.info()"
   ]
  },
  {
   "cell_type": "markdown",
   "id": "17220ae6",
   "metadata": {
    "papermill": {
     "duration": 0.015662,
     "end_time": "2024-04-02T10:48:27.205375",
     "exception": false,
     "start_time": "2024-04-02T10:48:27.189713",
     "status": "completed"
    },
    "tags": []
   },
   "source": [
    "As it contain zero null values"
   ]
  },
  {
   "cell_type": "markdown",
   "id": "8cef0d09",
   "metadata": {
    "papermill": {
     "duration": 0.015944,
     "end_time": "2024-04-02T10:48:27.237478",
     "exception": false,
     "start_time": "2024-04-02T10:48:27.221534",
     "status": "completed"
    },
    "tags": []
   },
   "source": [
    "# 3. Exploratory Analysis and Visualization"
   ]
  },
  {
   "cell_type": "code",
   "execution_count": 11,
   "id": "bd2b6d06",
   "metadata": {
    "execution": {
     "iopub.execute_input": "2024-04-02T10:48:27.271196Z",
     "iopub.status.busy": "2024-04-02T10:48:27.270778Z",
     "iopub.status.idle": "2024-04-02T10:48:28.742983Z",
     "shell.execute_reply": "2024-04-02T10:48:28.741628Z"
    },
    "papermill": {
     "duration": 1.492441,
     "end_time": "2024-04-02T10:48:28.745957",
     "exception": false,
     "start_time": "2024-04-02T10:48:27.253516",
     "status": "completed"
    },
    "tags": []
   },
   "outputs": [],
   "source": [
    "import matplotlib.pyplot as plt\n",
    "import seaborn as sns"
   ]
  },
  {
   "cell_type": "markdown",
   "id": "2e4affcf",
   "metadata": {
    "papermill": {
     "duration": 0.016735,
     "end_time": "2024-04-02T10:48:28.779056",
     "exception": false,
     "start_time": "2024-04-02T10:48:28.762321",
     "status": "completed"
    },
    "tags": []
   },
   "source": [
    "**1.What are the top three players who received the 'Player of the Match' (POM) award the most during the IPL 2023 season?**"
   ]
  },
  {
   "cell_type": "code",
   "execution_count": 12,
   "id": "c03d7d39",
   "metadata": {
    "execution": {
     "iopub.execute_input": "2024-04-02T10:48:28.814117Z",
     "iopub.status.busy": "2024-04-02T10:48:28.813665Z",
     "iopub.status.idle": "2024-04-02T10:48:28.824516Z",
     "shell.execute_reply": "2024-04-02T10:48:28.823395Z"
    },
    "papermill": {
     "duration": 0.031782,
     "end_time": "2024-04-02T10:48:28.827119",
     "exception": false,
     "start_time": "2024-04-02T10:48:28.795337",
     "status": "completed"
    },
    "tags": []
   },
   "outputs": [
    {
     "data": {
      "text/html": [
       "<div>\n",
       "<style scoped>\n",
       "    .dataframe tbody tr th:only-of-type {\n",
       "        vertical-align: middle;\n",
       "    }\n",
       "\n",
       "    .dataframe tbody tr th {\n",
       "        vertical-align: top;\n",
       "    }\n",
       "\n",
       "    .dataframe thead th {\n",
       "        text-align: right;\n",
       "    }\n",
       "</style>\n",
       "<table border=\"1\" class=\"dataframe\">\n",
       "  <thead>\n",
       "    <tr style=\"text-align: right;\">\n",
       "      <th></th>\n",
       "      <th>pom</th>\n",
       "    </tr>\n",
       "  </thead>\n",
       "  <tbody>\n",
       "    <tr>\n",
       "      <th>0</th>\n",
       "      <td>Abhinav Manohar</td>\n",
       "    </tr>\n",
       "    <tr>\n",
       "      <th>1</th>\n",
       "      <td>Ajinkya Rahane</td>\n",
       "    </tr>\n",
       "    <tr>\n",
       "      <th>2</th>\n",
       "      <td>Andre Russell</td>\n",
       "    </tr>\n",
       "  </tbody>\n",
       "</table>\n",
       "</div>"
      ],
      "text/plain": [
       "               pom\n",
       "0  Abhinav Manohar\n",
       "1   Ajinkya Rahane\n",
       "2    Andre Russell"
      ]
     },
     "execution_count": 12,
     "metadata": {},
     "output_type": "execute_result"
    }
   ],
   "source": [
    "q1 = \"SELECT POM FROM ipl_data WHERE SEASON =2023 GROUP BY POM Limit 3\"\n",
    "q1 = pd.read_sql(q1,conn)\n",
    "q1"
   ]
  },
  {
   "cell_type": "markdown",
   "id": "58685eb3",
   "metadata": {
    "papermill": {
     "duration": 0.016009,
     "end_time": "2024-04-02T10:48:28.921903",
     "exception": false,
     "start_time": "2024-04-02T10:48:28.905894",
     "status": "completed"
    },
    "tags": []
   },
   "source": [
    "**2.How many times has Virat Kohli been awarded the Player of the Match across different IPL seasons?**"
   ]
  },
  {
   "cell_type": "code",
   "execution_count": 13,
   "id": "faa97f30",
   "metadata": {
    "execution": {
     "iopub.execute_input": "2024-04-02T10:48:28.957048Z",
     "iopub.status.busy": "2024-04-02T10:48:28.956176Z",
     "iopub.status.idle": "2024-04-02T10:48:28.971839Z",
     "shell.execute_reply": "2024-04-02T10:48:28.970962Z"
    },
    "papermill": {
     "duration": 0.035888,
     "end_time": "2024-04-02T10:48:28.974126",
     "exception": false,
     "start_time": "2024-04-02T10:48:28.938238",
     "status": "completed"
    },
    "tags": []
   },
   "outputs": [
    {
     "data": {
      "text/html": [
       "<div>\n",
       "<style scoped>\n",
       "    .dataframe tbody tr th:only-of-type {\n",
       "        vertical-align: middle;\n",
       "    }\n",
       "\n",
       "    .dataframe tbody tr th {\n",
       "        vertical-align: top;\n",
       "    }\n",
       "\n",
       "    .dataframe thead th {\n",
       "        text-align: right;\n",
       "    }\n",
       "</style>\n",
       "<table border=\"1\" class=\"dataframe\">\n",
       "  <thead>\n",
       "    <tr style=\"text-align: right;\">\n",
       "      <th></th>\n",
       "      <th>season</th>\n",
       "      <th>short_name</th>\n",
       "      <th>winner</th>\n",
       "      <th>pom</th>\n",
       "    </tr>\n",
       "  </thead>\n",
       "  <tbody>\n",
       "    <tr>\n",
       "      <th>0</th>\n",
       "      <td>2023.0</td>\n",
       "      <td>SRH v RCB</td>\n",
       "      <td>RCB</td>\n",
       "      <td>Virat Kohli</td>\n",
       "    </tr>\n",
       "    <tr>\n",
       "      <th>1</th>\n",
       "      <td>2023.0</td>\n",
       "      <td>RCB v DC</td>\n",
       "      <td>RCB</td>\n",
       "      <td>Virat Kohli</td>\n",
       "    </tr>\n",
       "    <tr>\n",
       "      <th>2</th>\n",
       "      <td>2022.0</td>\n",
       "      <td>RCB v GT</td>\n",
       "      <td>RCB</td>\n",
       "      <td>Virat Kohli</td>\n",
       "    </tr>\n",
       "    <tr>\n",
       "      <th>3</th>\n",
       "      <td>2020.0</td>\n",
       "      <td>CSK v RCB</td>\n",
       "      <td>RCB</td>\n",
       "      <td>Virat Kohli</td>\n",
       "    </tr>\n",
       "    <tr>\n",
       "      <th>4</th>\n",
       "      <td>2019.0</td>\n",
       "      <td>KKR v RCB</td>\n",
       "      <td>RCB</td>\n",
       "      <td>Virat Kohli</td>\n",
       "    </tr>\n",
       "    <tr>\n",
       "      <th>5</th>\n",
       "      <td>2016.0</td>\n",
       "      <td>KKR v RCB</td>\n",
       "      <td>RCB</td>\n",
       "      <td>Virat Kohli</td>\n",
       "    </tr>\n",
       "    <tr>\n",
       "      <th>6</th>\n",
       "      <td>2016.0</td>\n",
       "      <td>RCB v KXIP</td>\n",
       "      <td>RCB</td>\n",
       "      <td>Virat Kohli</td>\n",
       "    </tr>\n",
       "    <tr>\n",
       "      <th>7</th>\n",
       "      <td>2016.0</td>\n",
       "      <td>DC v RCB</td>\n",
       "      <td>RCB</td>\n",
       "      <td>Virat Kohli</td>\n",
       "    </tr>\n",
       "    <tr>\n",
       "      <th>8</th>\n",
       "      <td>2015.0</td>\n",
       "      <td>SRH v RCB</td>\n",
       "      <td>RCB</td>\n",
       "      <td>Virat Kohli</td>\n",
       "    </tr>\n",
       "    <tr>\n",
       "      <th>9</th>\n",
       "      <td>2013.0</td>\n",
       "      <td>RCB v SRH</td>\n",
       "      <td>RCB</td>\n",
       "      <td>Virat Kohli</td>\n",
       "    </tr>\n",
       "    <tr>\n",
       "      <th>10</th>\n",
       "      <td>2013.0</td>\n",
       "      <td>RCB v DC</td>\n",
       "      <td>RCB</td>\n",
       "      <td>Virat Kohli</td>\n",
       "    </tr>\n",
       "    <tr>\n",
       "      <th>11</th>\n",
       "      <td>2013.0</td>\n",
       "      <td>RCB v CSK</td>\n",
       "      <td>RCB</td>\n",
       "      <td>Virat Kohli</td>\n",
       "    </tr>\n",
       "    <tr>\n",
       "      <th>12</th>\n",
       "      <td>2011.0</td>\n",
       "      <td>DC v RCB</td>\n",
       "      <td>RCB</td>\n",
       "      <td>Virat Kohli</td>\n",
       "    </tr>\n",
       "    <tr>\n",
       "      <th>13</th>\n",
       "      <td>2011.0</td>\n",
       "      <td>RCB v PWI</td>\n",
       "      <td>RCB</td>\n",
       "      <td>Virat Kohli</td>\n",
       "    </tr>\n",
       "  </tbody>\n",
       "</table>\n",
       "</div>"
      ],
      "text/plain": [
       "    season  short_name winner          pom\n",
       "0   2023.0   SRH v RCB    RCB  Virat Kohli\n",
       "1   2023.0    RCB v DC    RCB  Virat Kohli\n",
       "2   2022.0    RCB v GT    RCB  Virat Kohli\n",
       "3   2020.0   CSK v RCB    RCB  Virat Kohli\n",
       "4   2019.0   KKR v RCB    RCB  Virat Kohli\n",
       "5   2016.0   KKR v RCB    RCB  Virat Kohli\n",
       "6   2016.0  RCB v KXIP    RCB  Virat Kohli\n",
       "7   2016.0    DC v RCB    RCB  Virat Kohli\n",
       "8   2015.0   SRH v RCB    RCB  Virat Kohli\n",
       "9   2013.0   RCB v SRH    RCB  Virat Kohli\n",
       "10  2013.0    RCB v DC    RCB  Virat Kohli\n",
       "11  2013.0   RCB v CSK    RCB  Virat Kohli\n",
       "12  2011.0    DC v RCB    RCB  Virat Kohli\n",
       "13  2011.0   RCB v PWI    RCB  Virat Kohli"
      ]
     },
     "execution_count": 13,
     "metadata": {},
     "output_type": "execute_result"
    }
   ],
   "source": [
    "q2 = \"SELECT season,short_name,winner,pom FROM ipl_data WHERE POM = 'Virat Kohli';\"\n",
    "q2 = pd.read_sql(q2,conn)\n",
    "q2"
   ]
  },
  {
   "cell_type": "markdown",
   "id": "03ab1791",
   "metadata": {
    "papermill": {
     "duration": 0.01708,
     "end_time": "2024-04-02T10:48:29.009525",
     "exception": false,
     "start_time": "2024-04-02T10:48:28.992445",
     "status": "completed"
    },
    "tags": []
   },
   "source": [
    "**3.Which venue hosted the maximum number of matches?**"
   ]
  },
  {
   "cell_type": "code",
   "execution_count": 14,
   "id": "f12d853b",
   "metadata": {
    "execution": {
     "iopub.execute_input": "2024-04-02T10:48:29.045331Z",
     "iopub.status.busy": "2024-04-02T10:48:29.044412Z",
     "iopub.status.idle": "2024-04-02T10:48:29.056207Z",
     "shell.execute_reply": "2024-04-02T10:48:29.055160Z"
    },
    "papermill": {
     "duration": 0.032618,
     "end_time": "2024-04-02T10:48:29.058959",
     "exception": false,
     "start_time": "2024-04-02T10:48:29.026341",
     "status": "completed"
    },
    "tags": []
   },
   "outputs": [
    {
     "data": {
      "text/html": [
       "<div>\n",
       "<style scoped>\n",
       "    .dataframe tbody tr th:only-of-type {\n",
       "        vertical-align: middle;\n",
       "    }\n",
       "\n",
       "    .dataframe tbody tr th {\n",
       "        vertical-align: top;\n",
       "    }\n",
       "\n",
       "    .dataframe thead th {\n",
       "        text-align: right;\n",
       "    }\n",
       "</style>\n",
       "<table border=\"1\" class=\"dataframe\">\n",
       "  <thead>\n",
       "    <tr style=\"text-align: right;\">\n",
       "      <th></th>\n",
       "      <th>venue_name</th>\n",
       "      <th>Total_Match_hosted</th>\n",
       "    </tr>\n",
       "  </thead>\n",
       "  <tbody>\n",
       "    <tr>\n",
       "      <th>0</th>\n",
       "      <td>Wankhede Stadium, Mumbai</td>\n",
       "      <td>99</td>\n",
       "    </tr>\n",
       "    <tr>\n",
       "      <th>1</th>\n",
       "      <td>M.Chinnaswamy Stadium, Bengaluru</td>\n",
       "      <td>74</td>\n",
       "    </tr>\n",
       "    <tr>\n",
       "      <th>2</th>\n",
       "      <td>Eden Gardens, Kolkata</td>\n",
       "      <td>73</td>\n",
       "    </tr>\n",
       "    <tr>\n",
       "      <th>3</th>\n",
       "      <td>Arun Jaitley Stadium, Delhi</td>\n",
       "      <td>72</td>\n",
       "    </tr>\n",
       "    <tr>\n",
       "      <th>4</th>\n",
       "      <td>MA Chidambaram Stadium, Chepauk, Chennai</td>\n",
       "      <td>66</td>\n",
       "    </tr>\n",
       "  </tbody>\n",
       "</table>\n",
       "</div>"
      ],
      "text/plain": [
       "                                 venue_name  Total_Match_hosted\n",
       "0                  Wankhede Stadium, Mumbai                  99\n",
       "1          M.Chinnaswamy Stadium, Bengaluru                  74\n",
       "2                     Eden Gardens, Kolkata                  73\n",
       "3               Arun Jaitley Stadium, Delhi                  72\n",
       "4  MA Chidambaram Stadium, Chepauk, Chennai                  66"
      ]
     },
     "execution_count": 14,
     "metadata": {},
     "output_type": "execute_result"
    }
   ],
   "source": [
    "q4 = \"select venue_name ,count(*) as Total_Match_hosted from ipl_data group by venue_name order by Total_Match_hosted DESC LIMIT 5\"\n",
    "q4 = pd.read_sql(q4,conn)\n",
    "q4"
   ]
  },
  {
   "cell_type": "markdown",
   "id": "621a79f5",
   "metadata": {
    "papermill": {
     "duration": 0.016653,
     "end_time": "2024-04-02T10:48:29.092705",
     "exception": false,
     "start_time": "2024-04-02T10:48:29.076052",
     "status": "completed"
    },
    "tags": []
   },
   "source": [
    "**4.Which toss decision (batting or bowling first) is more common in IPL matches?**"
   ]
  },
  {
   "cell_type": "code",
   "execution_count": 15,
   "id": "6b703e3e",
   "metadata": {
    "execution": {
     "iopub.execute_input": "2024-04-02T10:48:29.128912Z",
     "iopub.status.busy": "2024-04-02T10:48:29.128473Z",
     "iopub.status.idle": "2024-04-02T10:48:29.140028Z",
     "shell.execute_reply": "2024-04-02T10:48:29.138983Z"
    },
    "papermill": {
     "duration": 0.032784,
     "end_time": "2024-04-02T10:48:29.142483",
     "exception": false,
     "start_time": "2024-04-02T10:48:29.109699",
     "status": "completed"
    },
    "tags": []
   },
   "outputs": [
    {
     "data": {
      "text/html": [
       "<div>\n",
       "<style scoped>\n",
       "    .dataframe tbody tr th:only-of-type {\n",
       "        vertical-align: middle;\n",
       "    }\n",
       "\n",
       "    .dataframe tbody tr th {\n",
       "        vertical-align: top;\n",
       "    }\n",
       "\n",
       "    .dataframe thead th {\n",
       "        text-align: right;\n",
       "    }\n",
       "</style>\n",
       "<table border=\"1\" class=\"dataframe\">\n",
       "  <thead>\n",
       "    <tr style=\"text-align: right;\">\n",
       "      <th></th>\n",
       "      <th>decision</th>\n",
       "      <th>toss_decision</th>\n",
       "    </tr>\n",
       "  </thead>\n",
       "  <tbody>\n",
       "    <tr>\n",
       "      <th>0</th>\n",
       "      <td>BAT FIRST</td>\n",
       "      <td>323</td>\n",
       "    </tr>\n",
       "    <tr>\n",
       "      <th>1</th>\n",
       "      <td>BOWL FIRST</td>\n",
       "      <td>576</td>\n",
       "    </tr>\n",
       "  </tbody>\n",
       "</table>\n",
       "</div>"
      ],
      "text/plain": [
       "     decision  toss_decision\n",
       "0   BAT FIRST            323\n",
       "1  BOWL FIRST            576"
      ]
     },
     "execution_count": 15,
     "metadata": {},
     "output_type": "execute_result"
    }
   ],
   "source": [
    "q4 = \"select decision, count(*) as toss_decision from ipl_data group by decision\"\n",
    "q4 = pd.read_sql(q4,conn)\n",
    "q4"
   ]
  },
  {
   "cell_type": "markdown",
   "id": "872cedd9",
   "metadata": {
    "papermill": {
     "duration": 0.017251,
     "end_time": "2024-04-02T10:48:29.176914",
     "exception": false,
     "start_time": "2024-04-02T10:48:29.159663",
     "status": "completed"
    },
    "tags": []
   },
   "source": [
    "*In the analysis of IPL matches, it's evident that teams opting to bowl first are the more prevalent choice, indicating a strategic preference towards chasing targets in the tournament.*****"
   ]
  },
  {
   "cell_type": "markdown",
   "id": "d5caaaa1",
   "metadata": {
    "papermill": {
     "duration": 0.017099,
     "end_time": "2024-04-02T10:48:29.211138",
     "exception": false,
     "start_time": "2024-04-02T10:48:29.194039",
     "status": "completed"
    },
    "tags": []
   },
   "source": [
    "**5.How does the toss-winning team's decision (batting or bowling first) affect the match outcome?**"
   ]
  },
  {
   "cell_type": "code",
   "execution_count": 16,
   "id": "6d3f0cc9",
   "metadata": {
    "execution": {
     "iopub.execute_input": "2024-04-02T10:48:29.247302Z",
     "iopub.status.busy": "2024-04-02T10:48:29.246886Z",
     "iopub.status.idle": "2024-04-02T10:48:29.257402Z",
     "shell.execute_reply": "2024-04-02T10:48:29.256246Z"
    },
    "papermill": {
     "duration": 0.031659,
     "end_time": "2024-04-02T10:48:29.259970",
     "exception": false,
     "start_time": "2024-04-02T10:48:29.228311",
     "status": "completed"
    },
    "tags": []
   },
   "outputs": [],
   "source": [
    "# Filter matches where the toss-winning team chose to bat\n",
    "bat_matches = data[data['decision']== 'BAT FIRST']\n",
    "\n",
    "# Filter matches where the toss-winning team chose to bowl\n",
    "bowl_matches = data[data['decision']== 'BOWL FIRST']\n",
    "\n",
    "# Calculate win percentage for batting first and bowling first\n",
    "bat_win_percentage = (bat_matches['toss_won'] == bat_matches['winner']).mean()*100\n",
    "bowl_win_percentage = (bowl_matches['winner'] == bowl_matches['toss_won']).mean() * 100\n"
   ]
  },
  {
   "cell_type": "code",
   "execution_count": 17,
   "id": "6c3ad439",
   "metadata": {
    "execution": {
     "iopub.execute_input": "2024-04-02T10:48:29.297183Z",
     "iopub.status.busy": "2024-04-02T10:48:29.296738Z",
     "iopub.status.idle": "2024-04-02T10:48:29.725276Z",
     "shell.execute_reply": "2024-04-02T10:48:29.724288Z"
    },
    "papermill": {
     "duration": 0.449745,
     "end_time": "2024-04-02T10:48:29.727653",
     "exception": false,
     "start_time": "2024-04-02T10:48:29.277908",
     "status": "completed"
    },
    "tags": []
   },
   "outputs": [
    {
     "data": {
      "image/png": "[encoded data removed]",
      "text/plain": [
       "<Figure size 2000x900 with 1 Axes>"
      ]
     },
     "metadata": {},
     "output_type": "display_data"
    }
   ],
   "source": [
    "# Visualize the win percentages\n",
    "plt.figure(figsize=(20,9))\n",
    "plt.bar(['Bat First', 'Bowl First'], [bat_win_percentage, bowl_win_percentage],color = ['red','yellow'])\n",
    "plt.xlabel('Decision')\n",
    "plt.ylabel('Win Percentage')\n",
    "plt.title('Win Percentage by Toss Decision')\n",
    "plt.ylim(0, 100)\n",
    "plt.show()\n"
   ]
  },
  {
   "cell_type": "code",
   "execution_count": 18,
   "id": "02b936c6",
   "metadata": {
    "execution": {
     "iopub.execute_input": "2024-04-02T10:48:29.766861Z",
     "iopub.status.busy": "2024-04-02T10:48:29.765625Z",
     "iopub.status.idle": "2024-04-02T10:48:29.772307Z",
     "shell.execute_reply": "2024-04-02T10:48:29.771146Z"
    },
    "papermill": {
     "duration": 0.02951,
     "end_time": "2024-04-02T10:48:29.775006",
     "exception": false,
     "start_time": "2024-04-02T10:48:29.745496",
     "status": "completed"
    },
    "tags": []
   },
   "outputs": [
    {
     "name": "stdout",
     "output_type": "stream",
     "text": [
      "Win Percentage when Batting First: 43.65 %\n",
      "Win Percentage when Bowling First: 54.34 %\n"
     ]
    }
   ],
   "source": [
    "print(\"Win Percentage when Batting First:\", round(bat_win_percentage, 2), \"%\")\n",
    "print(\"Win Percentage when Bowling First:\", round(bowl_win_percentage, 2), \"%\")"
   ]
  },
  {
   "cell_type": "markdown",
   "id": "f72a08d3",
   "metadata": {
    "papermill": {
     "duration": 0.018024,
     "end_time": "2024-04-02T10:48:29.811323",
     "exception": false,
     "start_time": "2024-04-02T10:48:29.793299",
     "status": "completed"
    },
    "tags": []
   },
   "source": [
    "**6.Which teams have the highest and lowest win percentages across all seasons?**\n",
    "\n",
    "*Data Analysis:*\n",
    "\n",
    "* Count the number of matches won by each team.\n",
    "* Calculate the total number of matches played by each team.\n",
    "* Calculate the win percentage for each team (matches won / total matches played)."
   ]
  },
  {
   "cell_type": "code",
   "execution_count": 19,
   "id": "6cdc0d5e",
   "metadata": {
    "execution": {
     "iopub.execute_input": "2024-04-02T10:48:29.850102Z",
     "iopub.status.busy": "2024-04-02T10:48:29.849054Z",
     "iopub.status.idle": "2024-04-02T10:48:29.865897Z",
     "shell.execute_reply": "2024-04-02T10:48:29.864643Z"
    },
    "papermill": {
     "duration": 0.038675,
     "end_time": "2024-04-02T10:48:29.868384",
     "exception": false,
     "start_time": "2024-04-02T10:48:29.829709",
     "status": "completed"
    },
    "tags": []
   },
   "outputs": [
    {
     "data": {
      "text/plain": [
       "GT       74.074074\n",
       "LSG      64.000000\n",
       "RPS      60.869565\n",
       "CSK      58.201058\n",
       "MI       56.818182\n",
       "RCB      49.275362\n",
       "RR       49.197861\n",
       "KKR      49.065421\n",
       "SRH      46.500000\n",
       "KXIP     46.327684\n",
       "GL       45.833333\n",
       "PBKS     45.238095\n",
       "DC       45.098039\n",
       "Kochi    42.857143\n",
       "PWI      26.666667\n",
       "Name: count, dtype: float64"
      ]
     },
     "execution_count": 19,
     "metadata": {},
     "output_type": "execute_result"
    }
   ],
   "source": [
    "match_wonteam = data['winner'].value_counts()\n",
    "\n",
    "matches_played_home = data['home_team'].value_counts()\n",
    "matches_played_away = data['away_team'].value_counts()\n",
    "\n",
    "# Calculate the total number of matches played by each team\n",
    "matches_played = matches_played_home.add(matches_played_away)\n",
    "matches_played\n",
    "\n",
    "# Calculate win percentage for each team\n",
    "win_percentage = (match_wonteam / matches_played) * 100\n",
    "\n",
    "# Sort teams by win percentage\n",
    "win_percentage_sorted = win_percentage.sort_values(ascending=False)\n",
    "win_percentage_sorted\n"
   ]
  },
  {
   "cell_type": "code",
   "execution_count": 20,
   "id": "b38f2dda",
   "metadata": {
    "execution": {
     "iopub.execute_input": "2024-04-02T10:48:29.906734Z",
     "iopub.status.busy": "2024-04-02T10:48:29.905672Z",
     "iopub.status.idle": "2024-04-02T10:48:30.350873Z",
     "shell.execute_reply": "2024-04-02T10:48:30.349705Z"
    },
    "papermill": {
     "duration": 0.467672,
     "end_time": "2024-04-02T10:48:30.354032",
     "exception": false,
     "start_time": "2024-04-02T10:48:29.886360",
     "status": "completed"
    },
    "tags": []
   },
   "outputs": [
    {
     "data": {
      "image/png": "[encoded data removed]",
      "text/plain": [
       "<Figure size 1000x600 with 1 Axes>"
      ]
     },
     "metadata": {},
     "output_type": "display_data"
    }
   ],
   "source": [
    "colors = plt.cm.viridis(np.linspace(0, 1, len(win_percentage_sorted)))\n",
    "plt.figure(figsize=(10, 6))\n",
    "plt.bar(win_percentage_sorted.keys(),win_percentage_sorted,color=colors)\n",
    "plt.xlabel('Team')\n",
    "plt.ylabel('Win Percentage')\n",
    "plt.title('Win Percentage of Teams Across All Seasons')\n",
    "plt.xticks(rotation=45, ha='right')\n",
    "plt.tight_layout()\n",
    "plt.ylim(0, 100)\n",
    "plt.show()"
   ]
  },
  {
   "cell_type": "markdown",
   "id": "f32c0138",
   "metadata": {
    "papermill": {
     "duration": 0.018614,
     "end_time": "2024-04-02T10:48:30.391772",
     "exception": false,
     "start_time": "2024-04-02T10:48:30.373158",
     "status": "completed"
    },
    "tags": []
   },
   "source": [
    "**7.Find the number of matches played per season**"
   ]
  },
  {
   "cell_type": "code",
   "execution_count": 21,
   "id": "400c12f6",
   "metadata": {
    "execution": {
     "iopub.execute_input": "2024-04-02T10:48:30.431455Z",
     "iopub.status.busy": "2024-04-02T10:48:30.430581Z",
     "iopub.status.idle": "2024-04-02T10:48:30.965066Z",
     "shell.execute_reply": "2024-04-02T10:48:30.963938Z"
    },
    "papermill": {
     "duration": 0.557417,
     "end_time": "2024-04-02T10:48:30.967877",
     "exception": false,
     "start_time": "2024-04-02T10:48:30.410460",
     "status": "completed"
    },
    "tags": []
   },
   "outputs": [
    {
     "data": {
      "image/png": "[encoded data removed]",
      "text/plain": [
       "<Figure size 1200x600 with 1 Axes>"
      ]
     },
     "metadata": {},
     "output_type": "display_data"
    }
   ],
   "source": [
    "sns.set_style(\"whitegrid\")\n",
    "\n",
    "# Count the number of matches per season\n",
    "matches_per_season = data['season'].value_counts().sort_index()\n",
    "\n",
    "# Plotting\n",
    "plt.figure(figsize=(12, 6))\n",
    "matches_per_season.plot(kind='bar', color='skyblue')\n",
    "plt.title('Number of Matches Per Season', fontsize=14)\n",
    "plt.xlabel('Season', fontsize=12)\n",
    "plt.ylabel('Number of Matches', fontsize=12)\n",
    "plt.xticks(rotation=45)\n",
    "plt.show()"
   ]
  },
  {
   "cell_type": "markdown",
   "id": "aa8f9c20",
   "metadata": {
    "papermill": {
     "duration": 0.019042,
     "end_time": "2024-04-02T10:48:31.007202",
     "exception": false,
     "start_time": "2024-04-02T10:48:30.988160",
     "status": "completed"
    },
    "tags": []
   },
   "source": [
    "# 4. Asking and Answering Questions"
   ]
  },
  {
   "cell_type": "markdown",
   "id": "e250c28b",
   "metadata": {
    "papermill": {
     "duration": 0.019898,
     "end_time": "2024-04-02T10:48:31.046340",
     "exception": false,
     "start_time": "2024-04-02T10:48:31.026442",
     "status": "completed"
    },
    "tags": []
   },
   "source": [
    "****1.What is the distribution of toss decisions in the IPL matches dataset ? ****"
   ]
  },
  {
   "cell_type": "code",
   "execution_count": 22,
   "id": "3456c80c",
   "metadata": {
    "execution": {
     "iopub.execute_input": "2024-04-02T10:48:31.086779Z",
     "iopub.status.busy": "2024-04-02T10:48:31.086372Z",
     "iopub.status.idle": "2024-04-02T10:48:31.097156Z",
     "shell.execute_reply": "2024-04-02T10:48:31.096372Z"
    },
    "papermill": {
     "duration": 0.033669,
     "end_time": "2024-04-02T10:48:31.099250",
     "exception": false,
     "start_time": "2024-04-02T10:48:31.065581",
     "status": "completed"
    },
    "tags": []
   },
   "outputs": [
    {
     "data": {
      "text/html": [
       "<div>\n",
       "<style scoped>\n",
       "    .dataframe tbody tr th:only-of-type {\n",
       "        vertical-align: middle;\n",
       "    }\n",
       "\n",
       "    .dataframe tbody tr th {\n",
       "        vertical-align: top;\n",
       "    }\n",
       "\n",
       "    .dataframe thead th {\n",
       "        text-align: right;\n",
       "    }\n",
       "</style>\n",
       "<table border=\"1\" class=\"dataframe\">\n",
       "  <thead>\n",
       "    <tr style=\"text-align: right;\">\n",
       "      <th></th>\n",
       "      <th>decision</th>\n",
       "      <th>toss_decision</th>\n",
       "    </tr>\n",
       "  </thead>\n",
       "  <tbody>\n",
       "    <tr>\n",
       "      <th>0</th>\n",
       "      <td>BAT FIRST</td>\n",
       "      <td>323</td>\n",
       "    </tr>\n",
       "    <tr>\n",
       "      <th>1</th>\n",
       "      <td>BOWL FIRST</td>\n",
       "      <td>576</td>\n",
       "    </tr>\n",
       "  </tbody>\n",
       "</table>\n",
       "</div>"
      ],
      "text/plain": [
       "     decision  toss_decision\n",
       "0   BAT FIRST            323\n",
       "1  BOWL FIRST            576"
      ]
     },
     "execution_count": 22,
     "metadata": {},
     "output_type": "execute_result"
    }
   ],
   "source": [
    "qs1 = \"select decision, count(*) as toss_decision from ipl_data group by decision\"\n",
    "qs1 = pd.read_sql(qs1,conn)\n",
    "qs1"
   ]
  },
  {
   "cell_type": "markdown",
   "id": "834f1ed3",
   "metadata": {
    "papermill": {
     "duration": 0.019307,
     "end_time": "2024-04-02T10:48:31.137952",
     "exception": false,
     "start_time": "2024-04-02T10:48:31.118645",
     "status": "completed"
    },
    "tags": []
   },
   "source": [
    "**2.which reserve umpire has officiated the highest number of IPL matches, and how many matches have they overseen?**"
   ]
  },
  {
   "cell_type": "code",
   "execution_count": 23,
   "id": "abf972a5",
   "metadata": {
    "execution": {
     "iopub.execute_input": "2024-04-02T10:48:31.179492Z",
     "iopub.status.busy": "2024-04-02T10:48:31.178298Z",
     "iopub.status.idle": "2024-04-02T10:48:31.191622Z",
     "shell.execute_reply": "2024-04-02T10:48:31.190494Z"
    },
    "papermill": {
     "duration": 0.036619,
     "end_time": "2024-04-02T10:48:31.194082",
     "exception": false,
     "start_time": "2024-04-02T10:48:31.157463",
     "status": "completed"
    },
    "tags": []
   },
   "outputs": [
    {
     "data": {
      "text/html": [
       "<div>\n",
       "<style scoped>\n",
       "    .dataframe tbody tr th:only-of-type {\n",
       "        vertical-align: middle;\n",
       "    }\n",
       "\n",
       "    .dataframe tbody tr th {\n",
       "        vertical-align: top;\n",
       "    }\n",
       "\n",
       "    .dataframe thead th {\n",
       "        text-align: right;\n",
       "    }\n",
       "</style>\n",
       "<table border=\"1\" class=\"dataframe\">\n",
       "  <thead>\n",
       "    <tr style=\"text-align: right;\">\n",
       "      <th></th>\n",
       "      <th>reserve_umpire</th>\n",
       "      <th>num_matches</th>\n",
       "    </tr>\n",
       "  </thead>\n",
       "  <tbody>\n",
       "    <tr>\n",
       "      <th>0</th>\n",
       "      <td>Krishnamachari Srinivasan</td>\n",
       "      <td>59</td>\n",
       "    </tr>\n",
       "    <tr>\n",
       "      <th>1</th>\n",
       "      <td>Rohan Pandit</td>\n",
       "      <td>41</td>\n",
       "    </tr>\n",
       "    <tr>\n",
       "      <th>2</th>\n",
       "      <td>Krishnaraj Srinath</td>\n",
       "      <td>41</td>\n",
       "    </tr>\n",
       "    <tr>\n",
       "      <th>3</th>\n",
       "      <td>Navdeep Singh</td>\n",
       "      <td>40</td>\n",
       "    </tr>\n",
       "    <tr>\n",
       "      <th>4</th>\n",
       "      <td>Nitin Pandit</td>\n",
       "      <td>38</td>\n",
       "    </tr>\n",
       "    <tr>\n",
       "      <th>5</th>\n",
       "      <td>Ulhas Gandhe</td>\n",
       "      <td>31</td>\n",
       "    </tr>\n",
       "    <tr>\n",
       "      <th>6</th>\n",
       "      <td>Yeshwant Barde</td>\n",
       "      <td>30</td>\n",
       "    </tr>\n",
       "    <tr>\n",
       "      <th>7</th>\n",
       "      <td>KN Ananthapadmanabhan</td>\n",
       "      <td>29</td>\n",
       "    </tr>\n",
       "    <tr>\n",
       "      <th>8</th>\n",
       "      <td>Saiyed Khalid</td>\n",
       "      <td>28</td>\n",
       "    </tr>\n",
       "    <tr>\n",
       "      <th>9</th>\n",
       "      <td>Pashchim Pathak</td>\n",
       "      <td>27</td>\n",
       "    </tr>\n",
       "  </tbody>\n",
       "</table>\n",
       "</div>"
      ],
      "text/plain": [
       "              reserve_umpire  num_matches\n",
       "0  Krishnamachari Srinivasan           59\n",
       "1               Rohan Pandit           41\n",
       "2         Krishnaraj Srinath           41\n",
       "3              Navdeep Singh           40\n",
       "4               Nitin Pandit           38\n",
       "5               Ulhas Gandhe           31\n",
       "6             Yeshwant Barde           30\n",
       "7      KN Ananthapadmanabhan           29\n",
       "8              Saiyed Khalid           28\n",
       "9            Pashchim Pathak           27"
      ]
     },
     "execution_count": 23,
     "metadata": {},
     "output_type": "execute_result"
    }
   ],
   "source": [
    "qs2 = \"SELECT reserve_umpire,COUNT(*) AS num_matches FROM ipl_data GROUP BY reserve_umpire order by num_matches desc limit 10\"\n",
    "qs2 = pd.read_sql(qs2,conn)\n",
    "qs2"
   ]
  },
  {
   "cell_type": "markdown",
   "id": "769782f4",
   "metadata": {
    "papermill": {
     "duration": 0.019335,
     "end_time": "2024-04-02T10:48:31.233002",
     "exception": false,
     "start_time": "2024-04-02T10:48:31.213667",
     "status": "completed"
    },
    "tags": []
   },
   "source": [
    "**3.which reserve umpire has officiated the lowest number of IPL matches, and how many matches have they overseen?**"
   ]
  },
  {
   "cell_type": "code",
   "execution_count": 24,
   "id": "9ab2852e",
   "metadata": {
    "execution": {
     "iopub.execute_input": "2024-04-02T10:48:31.274750Z",
     "iopub.status.busy": "2024-04-02T10:48:31.273908Z",
     "iopub.status.idle": "2024-04-02T10:48:31.286572Z",
     "shell.execute_reply": "2024-04-02T10:48:31.285385Z"
    },
    "papermill": {
     "duration": 0.036349,
     "end_time": "2024-04-02T10:48:31.288999",
     "exception": false,
     "start_time": "2024-04-02T10:48:31.252650",
     "status": "completed"
    },
    "tags": []
   },
   "outputs": [
    {
     "data": {
      "text/html": [
       "<div>\n",
       "<style scoped>\n",
       "    .dataframe tbody tr th:only-of-type {\n",
       "        vertical-align: middle;\n",
       "    }\n",
       "\n",
       "    .dataframe tbody tr th {\n",
       "        vertical-align: top;\n",
       "    }\n",
       "\n",
       "    .dataframe thead th {\n",
       "        text-align: right;\n",
       "    }\n",
       "</style>\n",
       "<table border=\"1\" class=\"dataframe\">\n",
       "  <thead>\n",
       "    <tr style=\"text-align: right;\">\n",
       "      <th></th>\n",
       "      <th>reserve_umpire</th>\n",
       "      <th>num_matches</th>\n",
       "    </tr>\n",
       "  </thead>\n",
       "  <tbody>\n",
       "    <tr>\n",
       "      <th>0</th>\n",
       "      <td>Abhik Mitra</td>\n",
       "      <td>1</td>\n",
       "    </tr>\n",
       "    <tr>\n",
       "      <th>1</th>\n",
       "      <td>Francis Gomes</td>\n",
       "      <td>1</td>\n",
       "    </tr>\n",
       "    <tr>\n",
       "      <th>2</th>\n",
       "      <td>Subrata Banerjee</td>\n",
       "      <td>1</td>\n",
       "    </tr>\n",
       "    <tr>\n",
       "      <th>3</th>\n",
       "      <td>Subroto Porel</td>\n",
       "      <td>1</td>\n",
       "    </tr>\n",
       "    <tr>\n",
       "      <th>4</th>\n",
       "      <td>Vishwas Nerurkar</td>\n",
       "      <td>1</td>\n",
       "    </tr>\n",
       "  </tbody>\n",
       "</table>\n",
       "</div>"
      ],
      "text/plain": [
       "     reserve_umpire  num_matches\n",
       "0       Abhik Mitra            1\n",
       "1     Francis Gomes            1\n",
       "2  Subrata Banerjee            1\n",
       "3     Subroto Porel            1\n",
       "4  Vishwas Nerurkar            1"
      ]
     },
     "execution_count": 24,
     "metadata": {},
     "output_type": "execute_result"
    }
   ],
   "source": [
    "qs3 = \"SELECT reserve_umpire,COUNT(*) AS num_matches FROM ipl_data GROUP BY reserve_umpire order by num_matches asc limit 5\"\n",
    "qs3 = pd.read_sql(qs3,conn)\n",
    "qs3"
   ]
  },
  {
   "cell_type": "markdown",
   "id": "eba352c3",
   "metadata": {
    "papermill": {
     "duration": 0.02003,
     "end_time": "2024-04-02T10:48:31.328881",
     "exception": false,
     "start_time": "2024-04-02T10:48:31.308851",
     "status": "completed"
    },
    "tags": []
   },
   "source": [
    "****4.What is the total number of unique teams that have participated in matches according to the IPL data? ****"
   ]
  },
  {
   "cell_type": "code",
   "execution_count": 25,
   "id": "b01e2a14",
   "metadata": {
    "execution": {
     "iopub.execute_input": "2024-04-02T10:48:31.371271Z",
     "iopub.status.busy": "2024-04-02T10:48:31.370459Z",
     "iopub.status.idle": "2024-04-02T10:48:31.379455Z",
     "shell.execute_reply": "2024-04-02T10:48:31.377875Z"
    },
    "papermill": {
     "duration": 0.032916,
     "end_time": "2024-04-02T10:48:31.381814",
     "exception": false,
     "start_time": "2024-04-02T10:48:31.348898",
     "status": "completed"
    },
    "tags": []
   },
   "outputs": [
    {
     "name": "stdout",
     "output_type": "stream",
     "text": [
      "total number of unique team that have participated in matches according to the IPL data [[15]]\n"
     ]
    }
   ],
   "source": [
    "qs4 = \"select count(*) total_teams FROM (SELECT home_team AS team_name FROM ipl_data UNION SELECT away_team AS team_name FROM ipl_data) AS all_teams;\"\n",
    "qs4 = pd.read_sql(qs4,conn)\n",
    "print(\"total number of unique team that have participated in matches according to the IPL data\",qs4.values)"
   ]
  },
  {
   "cell_type": "markdown",
   "id": "c2a39d38",
   "metadata": {
    "papermill": {
     "duration": 0.019709,
     "end_time": "2024-04-02T10:48:31.421835",
     "exception": false,
     "start_time": "2024-04-02T10:48:31.402126",
     "status": "completed"
    },
    "tags": []
   },
   "source": [
    "**5.which IPL team recorded the highest score across all matches, and what was the score?**"
   ]
  },
  {
   "cell_type": "code",
   "execution_count": 26,
   "id": "e53bbbe2",
   "metadata": {
    "execution": {
     "iopub.execute_input": "2024-04-02T10:48:31.464249Z",
     "iopub.status.busy": "2024-04-02T10:48:31.463872Z",
     "iopub.status.idle": "2024-04-02T10:48:31.475572Z",
     "shell.execute_reply": "2024-04-02T10:48:31.474805Z"
    },
    "papermill": {
     "duration": 0.035978,
     "end_time": "2024-04-02T10:48:31.477693",
     "exception": false,
     "start_time": "2024-04-02T10:48:31.441715",
     "status": "completed"
    },
    "tags": []
   },
   "outputs": [
    {
     "data": {
      "text/html": [
       "<div>\n",
       "<style scoped>\n",
       "    .dataframe tbody tr th:only-of-type {\n",
       "        vertical-align: middle;\n",
       "    }\n",
       "\n",
       "    .dataframe tbody tr th {\n",
       "        vertical-align: top;\n",
       "    }\n",
       "\n",
       "    .dataframe thead th {\n",
       "        text-align: right;\n",
       "    }\n",
       "</style>\n",
       "<table border=\"1\" class=\"dataframe\">\n",
       "  <thead>\n",
       "    <tr style=\"text-align: right;\">\n",
       "      <th></th>\n",
       "      <th>Team_name</th>\n",
       "      <th>Highest_score</th>\n",
       "    </tr>\n",
       "  </thead>\n",
       "  <tbody>\n",
       "    <tr>\n",
       "      <th>0</th>\n",
       "      <td>RCB</td>\n",
       "      <td>263.0</td>\n",
       "    </tr>\n",
       "  </tbody>\n",
       "</table>\n",
       "</div>"
      ],
      "text/plain": [
       "  Team_name  Highest_score\n",
       "0       RCB          263.0"
      ]
     },
     "execution_count": 26,
     "metadata": {},
     "output_type": "execute_result"
    }
   ],
   "source": [
    "qs5 = \"SELECT winner as Team_name,MAX(score) AS Highest_score FROM (SELECT winner,home_runs AS score FROM ipl_data UNION ALL SELECT winner,away_runs AS score FROM ipl_data) AS combined_scores;\"\n",
    "qs5 = pd.read_sql(qs5,conn)\n",
    "qs5"
   ]
  },
  {
   "cell_type": "markdown",
   "id": "67b92a6c",
   "metadata": {
    "papermill": {
     "duration": 0.022506,
     "end_time": "2024-04-02T10:48:31.521982",
     "exception": false,
     "start_time": "2024-04-02T10:48:31.499476",
     "status": "completed"
    },
    "tags": []
   },
   "source": [
    "**6.which IPL team recorded the lowest score across all matches, and what was the score?**"
   ]
  },
  {
   "cell_type": "code",
   "execution_count": 27,
   "id": "9ee3bda2",
   "metadata": {
    "execution": {
     "iopub.execute_input": "2024-04-02T10:48:31.573674Z",
     "iopub.status.busy": "2024-04-02T10:48:31.572630Z",
     "iopub.status.idle": "2024-04-02T10:48:31.585014Z",
     "shell.execute_reply": "2024-04-02T10:48:31.584097Z"
    },
    "papermill": {
     "duration": 0.040561,
     "end_time": "2024-04-02T10:48:31.587172",
     "exception": false,
     "start_time": "2024-04-02T10:48:31.546611",
     "status": "completed"
    },
    "tags": []
   },
   "outputs": [
    {
     "data": {
      "text/html": [
       "<div>\n",
       "<style scoped>\n",
       "    .dataframe tbody tr th:only-of-type {\n",
       "        vertical-align: middle;\n",
       "    }\n",
       "\n",
       "    .dataframe tbody tr th {\n",
       "        vertical-align: top;\n",
       "    }\n",
       "\n",
       "    .dataframe thead th {\n",
       "        text-align: right;\n",
       "    }\n",
       "</style>\n",
       "<table border=\"1\" class=\"dataframe\">\n",
       "  <thead>\n",
       "    <tr style=\"text-align: right;\">\n",
       "      <th></th>\n",
       "      <th>team_name</th>\n",
       "      <th>Highest_score</th>\n",
       "    </tr>\n",
       "  </thead>\n",
       "  <tbody>\n",
       "    <tr>\n",
       "      <th>0</th>\n",
       "      <td>DC</td>\n",
       "      <td>44.0</td>\n",
       "    </tr>\n",
       "  </tbody>\n",
       "</table>\n",
       "</div>"
      ],
      "text/plain": [
       "  team_name  Highest_score\n",
       "0        DC           44.0"
      ]
     },
     "execution_count": 27,
     "metadata": {},
     "output_type": "execute_result"
    }
   ],
   "source": [
    "qs5 = \"SELECT case when winner == home_team then away_team else home_team end as team_name,MIN(score) AS Highest_score FROM (SELECT winner,home_team,away_team,home_runs AS score FROM ipl_data UNION ALL SELECT winner,home_team,away_team,away_runs AS score FROM ipl_data) AS combined_scores;\"\n",
    "qs5 = pd.read_sql(qs5,conn)\n",
    "qs5"
   ]
  }
 ],
 "metadata": {
  "kaggle": {
   "accelerator": "none",
   "dataSources": [
    {
     "datasetId": 4617400,
     "sourceId": 7869409,
     "sourceType": "datasetVersion"
    }
   ],
   "dockerImageVersionId": 30673,
   "isGpuEnabled": false,
   "isInternetEnabled": false,
   "language": "python",
   "sourceType": "notebook"
  },
  "kernelspec": {
   "display_name": "Python 3",
   "language": "python",
   "name": "python3"
  },
  "language_info": {
   "codemirror_mode": {
    "name": "ipython",
    "version": 3
   },
   "file_extension": ".py",
   "mimetype": "text/x-python",
   "name": "python",
   "nbconvert_exporter": "python",
   "pygments_lexer": "ipython3",
   "version": "3.10.13"
  },
  "papermill": {
   "default_parameters": {},
   "duration": 9.920112,
   "end_time": "2024-04-02T10:48:32.235227",
   "environment_variables": {},
   "exception": null,
   "input_path": "__notebook__.ipynb",
   "output_path": "__notebook__.ipynb",
   "parameters": {},
   "start_time": "2024-04-02T10:48:22.315115",
   "version": "2.5.0"
  }
 },
 "nbformat": 4,
 "nbformat_minor": 5
}
